{
 "cells": [
  {
   "cell_type": "markdown",
   "metadata": {},
   "source": [
    "Working on converting scores on USAU tournament websites into a data table for analysis with pandas. Based on playing over 3 years of organized Ultimate Frisbee and inspecting the USAU website's score tables, I have a rough idea of what I'm looking for. The USAU tournament info is split into  slides/tabs for the pools and brackets. \n",
    "\n",
    "The pool play is under the section with `id=\"poolSlide\"`. Then, the pools are organized under sections of `data-type=\"pool\"` and organized into tables of `class=\"scores_table\"`. Each game is under its own table row with a `data-game` identifier.\n",
    "\n",
    "Bracket play is under the section with `id=\"bracketSlide\"` and set up in a rather unique way because they try to make it look like the bracket."
   ]
  },
  {
   "cell_type": "code",
   "execution_count": 1,
   "metadata": {},
   "outputs": [],
   "source": [
    "import requests\n",
    "import pandas as pd\n",
    "from bs4 import BeautifulSoup as bs"
   ]
  },
  {
   "cell_type": "code",
   "execution_count": 45,
   "metadata": {},
   "outputs": [],
   "source": [
    "USER_AGENT = \"Mozilla/5.0 (X11; Linux x86_64) AppleWebKit/537.36 (KHTML, like Gecko) Chrome/44.0.2403.157 Safari/537.36\"\n",
    "# US english\n",
    "LANGUAGE = \"en-US,en;q=0.5\"\n",
    "\n",
    "def get_soup(url):\n",
    "    \"\"\"Constructs and returns a soup using the HTML content of `url` passed\"\"\"\n",
    "    # initialize a session\n",
    "    session = requests.Session()\n",
    "    # set the User-Agent as a regular browser\n",
    "    session.headers['User-Agent'] = USER_AGENT\n",
    "    # request for english content (optional)\n",
    "    session.headers['Accept-Language'] = LANGUAGE\n",
    "    session.headers['Content-Language'] = LANGUAGE\n",
    "    # make the request\n",
    "    html = session.get(url)\n",
    "    # return the soup\n",
    "    return bs(html.content, \"html.parser\")\n",
    "\n",
    "def get_all_scoretables(soup):\n",
    "    \"\"\"Extracts and returns all tables in a soup object\"\"\"\n",
    "    return soup.find_all(\"table\",class_=\"scores_table\")\n",
    "\n",
    "def get_table_name(table):\n",
    "    \"\"\"Given a table soup, returns the table's name\"\"\"\n",
    "    return table.find(\"thead\").find(\"tr\").find(\"th\").text.strip()\n",
    "\n",
    "def get_table_headers(table):\n",
    "    \"\"\"Given a table soup, returns all the headers\"\"\"\n",
    "    headers = []\n",
    "    for th in table.find(\"tbody\").find(\"tr\").find_all(\"th\"):\n",
    "        headers.append(th.text.strip())\n",
    "    return headers\n",
    "\n",
    "def get_table_rows(table):\n",
    "    \"\"\"Given a table, returns all its rows\"\"\"\n",
    "    rows = []\n",
    "    for tr in table.find(\"tbody\").find_all(\"tr\")[1:]:\n",
    "        cells = []\n",
    "        # grab all td tags in this table row\n",
    "        tds = tr.find_all(\"td\")\n",
    "        if len(tds) == 0:\n",
    "            # if no td tags, search for th tags\n",
    "            # can be found especially in wikipedia tables below the table\n",
    "            ths = tr.find_all(\"th\")\n",
    "            for th in ths:\n",
    "                cells.append(th.text.strip())\n",
    "        else:\n",
    "            # use regular td tags\n",
    "            for td in tds:\n",
    "                cells.append(td.text.strip())\n",
    "        rows.append(cells)\n",
    "    return rows"
   ]
  },
  {
   "cell_type": "code",
   "execution_count": 50,
   "metadata": {},
   "outputs": [
    {
     "name": "stdout",
     "output_type": "stream",
     "text": [
      "Found a total of 5 tables.\n"
     ]
    }
   ],
   "source": [
    "url = \"https://play.usaultimate.org/events/Florida-Warm-Up-2019/schedule/Men/CollegeMen/\"\n",
    "soup = get_soup(url)\n",
    "tables = get_all_tables(soup)\n",
    "print(f\"Found a total of {len(tables)} tables.\")\n",
    "for i, table in enumerate(tables, start=1):\n",
    "    headers = get_table_headers(table)\n",
    "    rows = get_table_rows(table)\n",
    "    table_name = f\"table{i}\"\n",
    "    pd.DataFrame(rows, columns=headers).to_csv(f\"{table_name}.csv\")"
   ]
  },
  {
   "cell_type": "markdown",
   "metadata": {},
   "source": [
    "Fix up the Score column of the pool play games"
   ]
  },
  {
   "cell_type": "code",
   "execution_count": 52,
   "metadata": {},
   "outputs": [],
   "source": [
    "for i in range(1,len(tables)):\n",
    "    df = pd.read_csv(f'./table{i}.csv')\n",
    "    if 'Score' not in df.columns:\n",
    "        continue\n",
    "    # fix up the score column\n",
    "    df['Team 1 Score'] = df['Score'].str.extract(r'(^\\d+)').astype(int)\n",
    "    df['Team 2 Score'] = df['Score'].str.extract(r'(\\d+$)').astype(int)\n",
    "    df = df[['Date','Time','Team 1','Team 2','Team 1 Score','Team 2 Score']]\n",
    "    df.to_csv(f'./table{i}.csv')"
   ]
  },
  {
   "cell_type": "code",
   "execution_count": null,
   "metadata": {},
   "outputs": [],
   "source": []
  },
  {
   "cell_type": "markdown",
   "metadata": {},
   "source": [
    "Shout out to https://www.thepythoncode.com/article/convert-html-tables-into-csv-files-in-python."
   ]
  }
 ],
 "metadata": {
  "kernelspec": {
   "display_name": "Python 3",
   "language": "python",
   "name": "python3"
  },
  "language_info": {
   "codemirror_mode": {
    "name": "ipython",
    "version": 3
   },
   "file_extension": ".py",
   "mimetype": "text/x-python",
   "name": "python",
   "nbconvert_exporter": "python",
   "pygments_lexer": "ipython3",
   "version": "3.6.5"
  }
 },
 "nbformat": 4,
 "nbformat_minor": 2
}
