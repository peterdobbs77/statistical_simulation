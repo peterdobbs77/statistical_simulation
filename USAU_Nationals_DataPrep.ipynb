{
 "cells": [
  {
   "cell_type": "markdown",
   "metadata": {},
   "source": [
    "# USAU College Nationals Data Prep"
   ]
  },
  {
   "cell_type": "code",
   "execution_count": 59,
   "metadata": {},
   "outputs": [],
   "source": [
    "import os\n",
    "import requests\n",
    "import numpy as np\n",
    "import pandas as pd\n",
    "from bs4 import BeautifulSoup as bs\n",
    "import matplotlib.pyplot as plt\n",
    "import random"
   ]
  },
  {
   "cell_type": "markdown",
   "metadata": {},
   "source": [
    "Here's how a 20 team tournament is organized"
   ]
  },
  {
   "cell_type": "code",
   "execution_count": 10,
   "metadata": {},
   "outputs": [
    {
     "data": {
      "text/html": [
       "<div>\n",
       "<style scoped>\n",
       "    .dataframe tbody tr th:only-of-type {\n",
       "        vertical-align: middle;\n",
       "    }\n",
       "\n",
       "    .dataframe tbody tr th {\n",
       "        vertical-align: top;\n",
       "    }\n",
       "\n",
       "    .dataframe thead th {\n",
       "        text-align: right;\n",
       "    }\n",
       "</style>\n",
       "<table border=\"1\" class=\"dataframe\">\n",
       "  <thead>\n",
       "    <tr style=\"text-align: right;\">\n",
       "      <th></th>\n",
       "      <th>Pool A</th>\n",
       "      <th>Pool B</th>\n",
       "      <th>Pool C</th>\n",
       "      <th>Pool D</th>\n",
       "    </tr>\n",
       "  </thead>\n",
       "  <tbody>\n",
       "    <tr>\n",
       "      <th>0</th>\n",
       "      <td>1</td>\n",
       "      <td>2</td>\n",
       "      <td>3</td>\n",
       "      <td>4</td>\n",
       "    </tr>\n",
       "    <tr>\n",
       "      <th>1</th>\n",
       "      <td>8</td>\n",
       "      <td>7</td>\n",
       "      <td>6</td>\n",
       "      <td>5</td>\n",
       "    </tr>\n",
       "    <tr>\n",
       "      <th>2</th>\n",
       "      <td>12</td>\n",
       "      <td>11</td>\n",
       "      <td>10</td>\n",
       "      <td>9</td>\n",
       "    </tr>\n",
       "    <tr>\n",
       "      <th>3</th>\n",
       "      <td>13</td>\n",
       "      <td>14</td>\n",
       "      <td>15</td>\n",
       "      <td>16</td>\n",
       "    </tr>\n",
       "    <tr>\n",
       "      <th>4</th>\n",
       "      <td>17</td>\n",
       "      <td>18</td>\n",
       "      <td>19</td>\n",
       "      <td>20</td>\n",
       "    </tr>\n",
       "  </tbody>\n",
       "</table>\n",
       "</div>"
      ],
      "text/plain": [
       "   Pool A  Pool B  Pool C  Pool D\n",
       "0       1       2       3       4\n",
       "1       8       7       6       5\n",
       "2      12      11      10       9\n",
       "3      13      14      15      16\n",
       "4      17      18      19      20"
      ]
     },
     "execution_count": 10,
     "metadata": {},
     "output_type": "execute_result"
    }
   ],
   "source": [
    "poolteams = {'Pool A':[1,8,12,13,17],'Pool B':[2,7,11,14,18],'Pool C':[3,6,10,15,19],'Pool D':[4,5,9,16,20]}\n",
    "poolassignments = pd.DataFrame(poolteams)\n",
    "poolassignments"
   ]
  },
  {
   "cell_type": "markdown",
   "metadata": {},
   "source": [
    "load in scraped data"
   ]
  },
  {
   "cell_type": "code",
   "execution_count": 3,
   "metadata": {
    "scrolled": false
   },
   "outputs": [
    {
     "data": {
      "text/html": [
       "<div>\n",
       "<style scoped>\n",
       "    .dataframe tbody tr th:only-of-type {\n",
       "        vertical-align: middle;\n",
       "    }\n",
       "\n",
       "    .dataframe tbody tr th {\n",
       "        vertical-align: top;\n",
       "    }\n",
       "\n",
       "    .dataframe thead th {\n",
       "        text-align: right;\n",
       "    }\n",
       "</style>\n",
       "<table border=\"1\" class=\"dataframe\">\n",
       "  <thead>\n",
       "    <tr style=\"text-align: right;\">\n",
       "      <th></th>\n",
       "      <th>event</th>\n",
       "      <th>type</th>\n",
       "      <th>home_team</th>\n",
       "      <th>away_team</th>\n",
       "      <th>home_score</th>\n",
       "      <th>away_score</th>\n",
       "      <th>home_seed</th>\n",
       "      <th>away_seed</th>\n",
       "      <th>pnt_diff</th>\n",
       "      <th>home_W</th>\n",
       "    </tr>\n",
       "  </thead>\n",
       "  <tbody>\n",
       "    <tr>\n",
       "      <th>0</th>\n",
       "      <td>USA-Ultimate-D-I-College-Championships/schedul...</td>\n",
       "      <td>pool</td>\n",
       "      <td>Colorado (1)</td>\n",
       "      <td>Harvard (8)</td>\n",
       "      <td>15</td>\n",
       "      <td>11</td>\n",
       "      <td>1</td>\n",
       "      <td>8</td>\n",
       "      <td>4</td>\n",
       "      <td>True</td>\n",
       "    </tr>\n",
       "    <tr>\n",
       "      <th>1</th>\n",
       "      <td>USA-Ultimate-D-I-College-Championships/schedul...</td>\n",
       "      <td>pool</td>\n",
       "      <td>Wisconsin (12)</td>\n",
       "      <td>California-San Diego (13)</td>\n",
       "      <td>15</td>\n",
       "      <td>7</td>\n",
       "      <td>12</td>\n",
       "      <td>13</td>\n",
       "      <td>8</td>\n",
       "      <td>True</td>\n",
       "    </tr>\n",
       "    <tr>\n",
       "      <th>2</th>\n",
       "      <td>USA-Ultimate-D-I-College-Championships/schedul...</td>\n",
       "      <td>pool</td>\n",
       "      <td>Harvard (8)</td>\n",
       "      <td>California-San Diego (13)</td>\n",
       "      <td>15</td>\n",
       "      <td>14</td>\n",
       "      <td>8</td>\n",
       "      <td>13</td>\n",
       "      <td>1</td>\n",
       "      <td>True</td>\n",
       "    </tr>\n",
       "    <tr>\n",
       "      <th>3</th>\n",
       "      <td>USA-Ultimate-D-I-College-Championships/schedul...</td>\n",
       "      <td>pool</td>\n",
       "      <td>Wisconsin (12)</td>\n",
       "      <td>Eastern Michigan (17)</td>\n",
       "      <td>15</td>\n",
       "      <td>11</td>\n",
       "      <td>12</td>\n",
       "      <td>17</td>\n",
       "      <td>4</td>\n",
       "      <td>True</td>\n",
       "    </tr>\n",
       "    <tr>\n",
       "      <th>4</th>\n",
       "      <td>USA-Ultimate-D-I-College-Championships/schedul...</td>\n",
       "      <td>pool</td>\n",
       "      <td>Colorado (1)</td>\n",
       "      <td>Eastern Michigan (17)</td>\n",
       "      <td>15</td>\n",
       "      <td>9</td>\n",
       "      <td>1</td>\n",
       "      <td>17</td>\n",
       "      <td>6</td>\n",
       "      <td>True</td>\n",
       "    </tr>\n",
       "  </tbody>\n",
       "</table>\n",
       "</div>"
      ],
      "text/plain": [
       "                                               event  type       home_team  \\\n",
       "0  USA-Ultimate-D-I-College-Championships/schedul...  pool    Colorado (1)   \n",
       "1  USA-Ultimate-D-I-College-Championships/schedul...  pool  Wisconsin (12)   \n",
       "2  USA-Ultimate-D-I-College-Championships/schedul...  pool     Harvard (8)   \n",
       "3  USA-Ultimate-D-I-College-Championships/schedul...  pool  Wisconsin (12)   \n",
       "4  USA-Ultimate-D-I-College-Championships/schedul...  pool    Colorado (1)   \n",
       "\n",
       "                   away_team  home_score  away_score  home_seed  away_seed  \\\n",
       "0                Harvard (8)          15          11          1          8   \n",
       "1  California-San Diego (13)          15           7         12         13   \n",
       "2  California-San Diego (13)          15          14          8         13   \n",
       "3      Eastern Michigan (17)          15          11         12         17   \n",
       "4      Eastern Michigan (17)          15           9          1         17   \n",
       "\n",
       "   pnt_diff  home_W  \n",
       "0         4    True  \n",
       "1         8    True  \n",
       "2         1    True  \n",
       "3         4    True  \n",
       "4         6    True  "
      ]
     },
     "execution_count": 3,
     "metadata": {},
     "output_type": "execute_result"
    }
   ],
   "source": [
    "df = pd.read_csv('./data/ultimate/CollegeSeries/open_nationals_allgames.csv')\n",
    "df['pnt_diff'] = df['home_score'] - df['away_score']\n",
    "df['home_W'] = df['home_score'] > df['away_score']\n",
    "df.head()"
   ]
  },
  {
   "cell_type": "markdown",
   "metadata": {},
   "source": [
    "Here's the probabilities for pool play"
   ]
  },
  {
   "cell_type": "code",
   "execution_count": 7,
   "metadata": {},
   "outputs": [
    {
     "data": {
      "text/plain": [
       "home_seed  away_seed\n",
       "1          8            0.833333\n",
       "           12           1.000000\n",
       "           13           0.666667\n",
       "           17           1.000000\n",
       "2          7            0.833333\n",
       "Name: sum, dtype: float64"
      ]
     },
     "execution_count": 7,
     "metadata": {},
     "output_type": "execute_result"
    }
   ],
   "source": [
    "pool = df[df['type']=='pool']\n",
    "pool_info = pool[['home_seed','away_seed','pnt_diff','home_W']].groupby(['home_seed','away_seed']).agg(['sum'])\n",
    "years = pool['event'].nunique()\n",
    "pool_odds = pool_info['home_W']['sum']/years\n",
    "pool_odds.head()"
   ]
  },
  {
   "cell_type": "markdown",
   "metadata": {},
   "source": [
    "### Simulate Pool Play"
   ]
  },
  {
   "cell_type": "code",
   "execution_count": 47,
   "metadata": {},
   "outputs": [],
   "source": [
    "# 5 teams in each pool, n(n-1)/2 games in each pool\n",
    "nPools = 4\n",
    "nTeams = 5\n",
    "nGames = int(nTeams*(nTeams-1)/2)\n",
    "nSimul = 10000\n",
    "pA = [[0 for j in range(nGames)] for i in range(nSimul)]\n",
    "pB = [[0 for j in range(nGames)] for i in range(nSimul)]\n",
    "pC = [[0 for j in range(nGames)] for i in range(nSimul)]\n",
    "pD = [[0 for j in range(nGames)] for i in range(nSimul)]\n",
    "pool_standings = [[{} for j in range(nPools)] for i in range(nSimul)]"
   ]
  },
  {
   "cell_type": "code",
   "execution_count": 77,
   "metadata": {},
   "outputs": [],
   "source": [
    "# TODO: need to generalize this loop\n",
    "for l in range(nSimul):\n",
    "    # Pool A\n",
    "    pA[l][0] = 1 if (random.uniform(0,1) < pool_odds[1][8]) else 8\n",
    "    pA[l][1] = 12 if (random.uniform(0,1) < pool_odds[12][13]) else 13\n",
    "    pA[l][2] = 8 if (random.uniform(0,1) < pool_odds[8][13]) else 13\n",
    "    pA[l][3] = 12 if (random.uniform(0,1) < pool_odds[12][17]) else 17\n",
    "    pA[l][4] = 1 if (random.uniform(0,1) < pool_odds[1][17]) else 17\n",
    "    pA[l][5] = 1 if (random.uniform(0,1) < pool_odds[1][12]) else 12\n",
    "    pA[l][6] = 8 if (random.uniform(0,1) < pool_odds[8][17]) else 17\n",
    "    pA[l][7] = 1 if (random.uniform(0,1) < pool_odds[1][13]) else 13\n",
    "    pA[l][8] = 8 if (random.uniform(0,1) < pool_odds[8][12]) else 12\n",
    "    pA[l][9] = 13 if (random.uniform(0,1) < pool_odds[13][17]) else 17\n",
    "    \n",
    "    # Pool B\n",
    "    pB[l][0] = 2 if (random.uniform(0,1) < pool_odds[2][18]) else 18\n",
    "    pB[l][1] = 7 if (random.uniform(0,1) < pool_odds[7][14]) else 14\n",
    "    pB[l][2] = 2 if (random.uniform(0,1) < pool_odds[2][7]) else 7\n",
    "    pB[l][3] = 11 if (random.uniform(0,1) < pool_odds[11][14]) else 14\n",
    "    pB[l][4] = 11 if (random.uniform(0,1) < pool_odds[11][18]) else 18\n",
    "    pB[l][5] = 2 if (random.uniform(0,1) < pool_odds[2][11]) else 11\n",
    "    pB[l][6] = 7 if (random.uniform(0,1) < pool_odds[7][18]) else 18\n",
    "    pB[l][7] = 14 if (random.uniform(0,1) < pool_odds[14][18]) else 18\n",
    "    pB[l][8] = 7 if (random.uniform(0,1) < pool_odds[7][11]) else 11\n",
    "    pB[l][9] = 2 if (random.uniform(0,1) < pool_odds[2][14]) else 14\n",
    "    \n",
    "    # Pool C\n",
    "    pC[l][0] = 6 if (random.uniform(0,1) < pool_odds[6][15]) else 15\n",
    "    pC[l][1] = 10 if (random.uniform(0,1) < pool_odds[10][19]) else 19\n",
    "    pC[l][2] = 3 if (random.uniform(0,1) < pool_odds[3][6]) else 6\n",
    "    pC[l][3] = 10 if (random.uniform(0,1) < pool_odds[10][15]) else 15\n",
    "    pC[l][4] = 3 if (random.uniform(0,1) < pool_odds[3][19]) else 19\n",
    "    pC[l][5] = 15 if (random.uniform(0,1) < pool_odds[15][19]) else 19\n",
    "    pC[l][6] = 3 if (random.uniform(0,1) < pool_odds[3][10]) else 10\n",
    "    pC[l][7] = 6 if (random.uniform(0,1) < pool_odds[6][19]) else 19\n",
    "    pC[l][8] = 3 if (random.uniform(0,1) < pool_odds[3][15]) else 15\n",
    "    pC[l][9] = 6 if (random.uniform(0,1) < pool_odds[6][10]) else 10\n",
    "    \n",
    "    # Pool D\n",
    "    pD[l][0] = 5 if (random.uniform(0,1) < pool_odds[5][16]) else 16\n",
    "    pD[l][1] = 9 if (random.uniform(0,1) < pool_odds[9][20]) else 20\n",
    "    pD[l][2] = 4 if (random.uniform(0,1) < pool_odds[4][20]) else 20\n",
    "    pD[l][3] = 9 if (random.uniform(0,1) < pool_odds[9][16]) else 16\n",
    "    pD[l][4] = 4 if (random.uniform(0,1) < pool_odds[4][5]) else 5\n",
    "    pD[l][5] = 4 if (random.uniform(0,1) < pool_odds[4][9]) else 9\n",
    "    pD[l][6] = 16 if (random.uniform(0,1) < pool_odds[16][20]) else 20\n",
    "    pD[l][7] = 5 if (random.uniform(0,1) < pool_odds[5][20]) else 20\n",
    "    pD[l][8] = 4 if (random.uniform(0,1) < pool_odds[4][16]) else 16\n",
    "    pD[l][9] = 5 if (random.uniform(0,1) < pool_odds[5][9]) else 9"
   ]
  },
  {
   "cell_type": "code",
   "execution_count": 162,
   "metadata": {},
   "outputs": [
    {
     "data": {
      "text/html": [
       "<div>\n",
       "<style scoped>\n",
       "    .dataframe tbody tr th:only-of-type {\n",
       "        vertical-align: middle;\n",
       "    }\n",
       "\n",
       "    .dataframe tbody tr th {\n",
       "        vertical-align: top;\n",
       "    }\n",
       "\n",
       "    .dataframe thead th {\n",
       "        text-align: right;\n",
       "    }\n",
       "</style>\n",
       "<table border=\"1\" class=\"dataframe\">\n",
       "  <thead>\n",
       "    <tr style=\"text-align: right;\">\n",
       "      <th></th>\n",
       "      <th>1</th>\n",
       "      <th>8</th>\n",
       "      <th>12</th>\n",
       "      <th>13</th>\n",
       "      <th>17</th>\n",
       "    </tr>\n",
       "  </thead>\n",
       "  <tbody>\n",
       "    <tr>\n",
       "      <th>0</th>\n",
       "      <td>4.0</td>\n",
       "      <td>3.0</td>\n",
       "      <td>1.0</td>\n",
       "      <td>2.0</td>\n",
       "      <td>0.0</td>\n",
       "    </tr>\n",
       "    <tr>\n",
       "      <th>1</th>\n",
       "      <td>2.0</td>\n",
       "      <td>4.0</td>\n",
       "      <td>2.0</td>\n",
       "      <td>2.0</td>\n",
       "      <td>0.0</td>\n",
       "    </tr>\n",
       "    <tr>\n",
       "      <th>2</th>\n",
       "      <td>4.0</td>\n",
       "      <td>3.0</td>\n",
       "      <td>1.0</td>\n",
       "      <td>0.0</td>\n",
       "      <td>2.0</td>\n",
       "    </tr>\n",
       "    <tr>\n",
       "      <th>3</th>\n",
       "      <td>4.0</td>\n",
       "      <td>1.0</td>\n",
       "      <td>2.0</td>\n",
       "      <td>2.0</td>\n",
       "      <td>1.0</td>\n",
       "    </tr>\n",
       "    <tr>\n",
       "      <th>4</th>\n",
       "      <td>3.0</td>\n",
       "      <td>4.0</td>\n",
       "      <td>1.0</td>\n",
       "      <td>1.0</td>\n",
       "      <td>1.0</td>\n",
       "    </tr>\n",
       "  </tbody>\n",
       "</table>\n",
       "</div>"
      ],
      "text/plain": [
       "    1    8    12   13   17\n",
       "0  4.0  3.0  1.0  2.0  0.0\n",
       "1  2.0  4.0  2.0  2.0  0.0\n",
       "2  4.0  3.0  1.0  0.0  2.0\n",
       "3  4.0  1.0  2.0  2.0  1.0\n",
       "4  3.0  4.0  1.0  1.0  1.0"
      ]
     },
     "execution_count": 162,
     "metadata": {},
     "output_type": "execute_result"
    }
   ],
   "source": [
    "poolAresults = pd.DataFrame(pA).apply(lambda x: x.value_counts(),axis=1).fillna(0)\n",
    "poolBresults = pd.DataFrame(pB).apply(lambda x: x.value_counts(),axis=1).fillna(0)\n",
    "poolCresults = pd.DataFrame(pC).apply(lambda x: x.value_counts(),axis=1).fillna(0)\n",
    "poolDresults = pd.DataFrame(pD).apply(lambda x: x.value_counts(),axis=1).fillna(0)\n",
    "poolAresults.head()"
   ]
  },
  {
   "cell_type": "code",
   "execution_count": 173,
   "metadata": {
    "scrolled": true
   },
   "outputs": [
    {
     "data": {
      "text/plain": [
       "<matplotlib.axes._subplots.AxesSubplot at 0xba88d98400>"
      ]
     },
     "execution_count": 173,
     "metadata": {},
     "output_type": "execute_result"
    },
    {
     "data": {
      "image/png": "[encoded data removed]",
      "text/plain": [
       "<Figure size 432x288 with 1 Axes>"
      ]
     },
     "metadata": {},
     "output_type": "display_data"
    },
    {
     "data": {
      "image/png": "[encoded data removed]",
      "text/plain": [
       "<Figure size 432x288 with 1 Axes>"
      ]
     },
     "metadata": {},
     "output_type": "display_data"
    },
    {
     "data": {
      "image/png": "[encoded data removed]",
      "text/plain": [
       "<Figure size 432x288 with 1 Axes>"
      ]
     },
     "metadata": {},
     "output_type": "display_data"
    },
    {
     "data": {
      "image/png": "[encoded data removed]",
      "text/plain": [
       "<Figure size 432x288 with 1 Axes>"
      ]
     },
     "metadata": {},
     "output_type": "display_data"
    }
   ],
   "source": [
    "poolAresults.plot.hist(title=\"Pool A Results\",histtype='step',hatch='/')\n",
    "poolBresults.plot.hist(title=\"Pool B Results\",histtype='step',hatch='/')\n",
    "poolCresults.plot.hist(title=\"Pool C Results\",histtype='step',hatch='/')\n",
    "poolDresults.plot.hist(title=\"Pool D Results\",histtype='step',hatch='/')"
   ]
  },
  {
   "cell_type": "code",
   "execution_count": 163,
   "metadata": {
    "scrolled": true
   },
   "outputs": [
    {
     "data": {
      "text/html": [
       "<div>\n",
       "<style scoped>\n",
       "    .dataframe tbody tr th:only-of-type {\n",
       "        vertical-align: middle;\n",
       "    }\n",
       "\n",
       "    .dataframe tbody tr th {\n",
       "        vertical-align: top;\n",
       "    }\n",
       "\n",
       "    .dataframe thead th {\n",
       "        text-align: right;\n",
       "    }\n",
       "</style>\n",
       "<table border=\"1\" class=\"dataframe\">\n",
       "  <thead>\n",
       "    <tr style=\"text-align: right;\">\n",
       "      <th></th>\n",
       "      <th>0</th>\n",
       "      <th>1</th>\n",
       "      <th>2</th>\n",
       "    </tr>\n",
       "  </thead>\n",
       "  <tbody>\n",
       "    <tr>\n",
       "      <th>0</th>\n",
       "      <td>1</td>\n",
       "      <td>8</td>\n",
       "      <td>13</td>\n",
       "    </tr>\n",
       "    <tr>\n",
       "      <th>1</th>\n",
       "      <td>8</td>\n",
       "      <td>1</td>\n",
       "      <td>12</td>\n",
       "    </tr>\n",
       "    <tr>\n",
       "      <th>2</th>\n",
       "      <td>1</td>\n",
       "      <td>8</td>\n",
       "      <td>17</td>\n",
       "    </tr>\n",
       "    <tr>\n",
       "      <th>3</th>\n",
       "      <td>1</td>\n",
       "      <td>12</td>\n",
       "      <td>13</td>\n",
       "    </tr>\n",
       "    <tr>\n",
       "      <th>4</th>\n",
       "      <td>8</td>\n",
       "      <td>1</td>\n",
       "      <td>12</td>\n",
       "    </tr>\n",
       "  </tbody>\n",
       "</table>\n",
       "</div>"
      ],
      "text/plain": [
       "   0   1   2\n",
       "0  1   8  13\n",
       "1  8   1  12\n",
       "2  1   8  17\n",
       "3  1  12  13\n",
       "4  8   1  12"
      ]
     },
     "execution_count": 163,
     "metadata": {},
     "output_type": "execute_result"
    }
   ],
   "source": [
    "poolAtop3 = pd.DataFrame([poolAresults.T[j].nlargest(n=3).reset_index()['index'] for j in range(nSimul)]).reset_index(drop=True)\n",
    "poolBtop3 = pd.DataFrame([poolBresults.T[j].nlargest(n=3).reset_index()['index'] for j in range(nSimul)]).reset_index(drop=True)\n",
    "poolCtop3 = pd.DataFrame([poolCresults.T[j].nlargest(n=3).reset_index()['index'] for j in range(nSimul)]).reset_index(drop=True)\n",
    "poolDtop3 = pd.DataFrame([poolDresults.T[j].nlargest(n=3).reset_index()['index'] for j in range(nSimul)]).reset_index(drop=True)\n",
    "poolAtop3.head()"
   ]
  },
  {
   "cell_type": "code",
   "execution_count": 171,
   "metadata": {
    "scrolled": true
   },
   "outputs": [
    {
     "data": {
      "text/plain": [
       "<matplotlib.axes._subplots.AxesSubplot at 0xba83be8320>"
      ]
     },
     "execution_count": 171,
     "metadata": {},
     "output_type": "execute_result"
    },
    {
     "data": {
      "image/png": "[encoded data removed]",
      "text/plain": [
       "<Figure size 432x288 with 1 Axes>"
      ]
     },
     "metadata": {},
     "output_type": "display_data"
    },
    {
     "data": {
      "image/png": "[encoded data removed]",
      "text/plain": [
       "<Figure size 432x288 with 1 Axes>"
      ]
     },
     "metadata": {},
     "output_type": "display_data"
    },
    {
     "data": {
      "image/png": "[encoded data removed]",
      "text/plain": [
       "<Figure size 432x288 with 1 Axes>"
      ]
     },
     "metadata": {},
     "output_type": "display_data"
    },
    {
     "data": {
      "image/png": "[encoded data removed]",
      "text/plain": [
       "<Figure size 432x288 with 1 Axes>"
      ]
     },
     "metadata": {},
     "output_type": "display_data"
    }
   ],
   "source": [
    "poolAtop3.plot.hist(title=\"Pool A Top 3\",histtype='step',hatch='/')\n",
    "poolBtop3.plot.hist(title=\"Pool B Top 3\",histtype='step',hatch='/')\n",
    "poolCtop3.plot.hist(title=\"Pool C Top 3\",histtype='step',hatch='/')\n",
    "poolDtop3.plot.hist(title=\"Pool D Top 3\",histtype='step',hatch='/')"
   ]
  },
  {
   "cell_type": "code",
   "execution_count": 183,
   "metadata": {},
   "outputs": [
    {
     "name": "stdout",
     "output_type": "stream",
     "text": [
      "probability of starting team seeds being the 1 seed in Pool A at the end of pool play: {1: 0.8747, 8: 0.1049, 12: 0.0015, 13: 0.0182, 17: 0.0007}\n",
      "probability of starting team seeds being the 2 seed in Pool A at the end of pool play: {1: 0.1045, 8: 0.6673, 12: 0.093, 13: 0.11, 17: 0.0252}\n",
      "probability of starting team seeds being the 3 seed in Pool A at the end of pool play: {1: 0.0208, 8: 0.1462, 12: 0.4635, 13: 0.2275, 17: 0.142}\n"
     ]
    }
   ],
   "source": [
    "unique_el, counts_el = np.unique(poolAtop3[0],return_counts=True)\n",
    "prob_top0_pA = dict(zip(unique_el,counts_el/nSimul))\n",
    "print(f\"probability of starting team seeds being the 1 seed in Pool A at the end of pool play: {prob_top0_pA}\")\n",
    "unique_el, counts_el = np.unique(poolAtop3[1],return_counts=True)\n",
    "prob_top1_pA = dict(zip(unique_el,counts_el/nSimul))\n",
    "print(f\"probability of starting team seeds being the 2 seed in Pool A at the end of pool play: {prob_top1_pA}\")\n",
    "unique_el, counts_el = np.unique(poolAtop3[2],return_counts=True)\n",
    "prob_top2_pA = dict(zip(unique_el,counts_el/nSimul))\n",
    "print(f\"probability of starting team seeds being the 3 seed in Pool A at the end of pool play: {prob_top2_pA}\")"
   ]
  },
  {
   "cell_type": "code",
   "execution_count": 184,
   "metadata": {
    "scrolled": true
   },
   "outputs": [
    {
     "name": "stdout",
     "output_type": "stream",
     "text": [
      "probability of starting team seeds being the 1 seed in Pool B at the end of pool play: {2: 0.5798, 7: 0.0504, 11: 0.3687, 14: 0.0011}\n",
      "probability of starting team seeds being the 2 seed in Pool B at the end of pool play: {2: 0.3232, 7: 0.2266, 11: 0.4199, 14: 0.0303}\n",
      "probability of starting team seeds being the 3 seed in Pool B at the end of pool play: {2: 0.0862, 7: 0.5085, 11: 0.1996, 14: 0.1973, 18: 0.0084}\n"
     ]
    }
   ],
   "source": [
    "unique_el, counts_el = np.unique(poolBtop3[0],return_counts=True)\n",
    "prob_top0_pB = dict(zip(unique_el,counts_el/nSimul))\n",
    "print(f\"probability of starting team seeds being the 1 seed in Pool B at the end of pool play: {prob_top0_pB}\")\n",
    "unique_el, counts_el = np.unique(poolBtop3[1],return_counts=True)\n",
    "prob_top1_pB = dict(zip(unique_el,counts_el/nSimul))\n",
    "print(f\"probability of starting team seeds being the 2 seed in Pool B at the end of pool play: {prob_top1_pB}\")\n",
    "unique_el, counts_el = np.unique(poolBtop3[2],return_counts=True)\n",
    "prob_top2_pB = dict(zip(unique_el,counts_el/nSimul))\n",
    "print(f\"probability of starting team seeds being the 3 seed in Pool B at the end of pool play: {prob_top2_pB}\")"
   ]
  },
  {
   "cell_type": "code",
   "execution_count": 185,
   "metadata": {
    "scrolled": false
   },
   "outputs": [
    {
     "name": "stdout",
     "output_type": "stream",
     "text": [
      "probability of starting team seeds being the 1 seed in Pool C at the end of pool play: {3: 0.5172, 6: 0.3975, 10: 0.0775, 15: 0.0066, 19: 0.0012}\n",
      "probability of starting team seeds being the 2 seed in Pool C at the end of pool play: {3: 0.2568, 6: 0.4516, 10: 0.1968, 15: 0.0818, 19: 0.013}\n",
      "probability of starting team seeds being the 3 seed in Pool C at the end of pool play: {3: 0.1337, 6: 0.147, 10: 0.4355, 15: 0.2158, 19: 0.068}\n"
     ]
    }
   ],
   "source": [
    "unique_el, counts_el = np.unique(poolCtop3[0],return_counts=True)\n",
    "prob_top0_pC = dict(zip(unique_el,counts_el/nSimul))\n",
    "print(f\"probability of starting team seeds being the 1 seed in Pool C at the end of pool play: {prob_top0_pC}\")\n",
    "unique_el, counts_el = np.unique(poolCtop3[1],return_counts=True)\n",
    "prob_top1_pC = dict(zip(unique_el,counts_el/nSimul))\n",
    "print(f\"probability of starting team seeds being the 2 seed in Pool C at the end of pool play: {prob_top1_pC}\")\n",
    "unique_el, counts_el = np.unique(poolCtop3[2],return_counts=True)\n",
    "prob_top2_pC = dict(zip(unique_el,counts_el/nSimul))\n",
    "print(f\"probability of starting team seeds being the 3 seed in Pool C at the end of pool play: {prob_top2_pC}\")"
   ]
  },
  {
   "cell_type": "code",
   "execution_count": 186,
   "metadata": {
    "scrolled": true
   },
   "outputs": [
    {
     "name": "stdout",
     "output_type": "stream",
     "text": [
      "probability of starting team seeds being the 1 seed in Pool D at the end of pool play: {4: 0.5568, 5: 0.3048, 9: 0.1122, 16: 0.0262}\n",
      "probability of starting team seeds being the 2 seed in Pool D at the end of pool play: {4: 0.207, 5: 0.3255, 9: 0.3193, 16: 0.1482}\n",
      "probability of starting team seeds being the 3 seed in Pool D at the end of pool play: {4: 0.2004, 5: 0.2624, 9: 0.4112, 16: 0.126}\n"
     ]
    }
   ],
   "source": [
    "unique_el, counts_el = np.unique(poolDtop3[0],return_counts=True)\n",
    "prob_top0_pD = dict(zip(unique_el,counts_el/nSimul))\n",
    "print(f\"probability of starting team seeds being the 1 seed in Pool D at the end of pool play: {prob_top0_pD}\")\n",
    "unique_el, counts_el = np.unique(poolDtop3[1],return_counts=True)\n",
    "prob_top1_pD = dict(zip(unique_el,counts_el/nSimul))\n",
    "print(f\"probability of starting team seeds being the 2 seed in Pool D at the end of pool play: {prob_top1_pD}\")\n",
    "unique_el, counts_el = np.unique(poolDtop3[2],return_counts=True)\n",
    "prob_top2_pD = dict(zip(unique_el,counts_el/nSimul))\n",
    "print(f\"probability of starting team seeds being the 3 seed in Pool D at the end of pool play: {prob_top2_pD}\")"
   ]
  },
  {
   "cell_type": "markdown",
   "metadata": {},
   "source": [
    "What we're missing in this simulation is the idea of a tie-breaker. Given the case where there is a two-, three-, or five-way tie in win total, the tie(s) is(are) broken via point-differential."
   ]
  },
  {
   "cell_type": "markdown",
   "metadata": {},
   "source": [
    "### Bracketplay"
   ]
  },
  {
   "cell_type": "markdown",
   "metadata": {},
   "source": [
    "We are going to make the assumption that the seeding matchup result does not vary by which part of the bracket it occurs. We don't have enough data here to disprove that assumption, but it could be interesting to explore."
   ]
  },
  {
   "cell_type": "code",
   "execution_count": 202,
   "metadata": {
    "scrolled": false
   },
   "outputs": [
    {
     "data": {
      "text/html": [
       "<div>\n",
       "<style scoped>\n",
       "    .dataframe tbody tr th:only-of-type {\n",
       "        vertical-align: middle;\n",
       "    }\n",
       "\n",
       "    .dataframe tbody tr th {\n",
       "        vertical-align: top;\n",
       "    }\n",
       "\n",
       "    .dataframe thead th {\n",
       "        text-align: right;\n",
       "    }\n",
       "</style>\n",
       "<table border=\"1\" class=\"dataframe\">\n",
       "  <thead>\n",
       "    <tr style=\"text-align: right;\">\n",
       "      <th></th>\n",
       "      <th>event</th>\n",
       "      <th>home_team</th>\n",
       "      <th>away_team</th>\n",
       "      <th>home_score</th>\n",
       "      <th>away_score</th>\n",
       "      <th>home_seed</th>\n",
       "      <th>away_seed</th>\n",
       "    </tr>\n",
       "  </thead>\n",
       "  <tbody>\n",
       "    <tr>\n",
       "      <th>0</th>\n",
       "      <td>USA-Ultimate-D-I-College-Championships/schedul...</td>\n",
       "      <td>Colorado (1)</td>\n",
       "      <td>North Carolina (6)</td>\n",
       "      <td>15</td>\n",
       "      <td>10</td>\n",
       "      <td>1</td>\n",
       "      <td>6</td>\n",
       "    </tr>\n",
       "    <tr>\n",
       "      <th>1</th>\n",
       "      <td>USA-Ultimate-D-I-College-Championships/schedul...</td>\n",
       "      <td>Colorado (1)</td>\n",
       "      <td>Oregon (4)</td>\n",
       "      <td>15</td>\n",
       "      <td>8</td>\n",
       "      <td>1</td>\n",
       "      <td>4</td>\n",
       "    </tr>\n",
       "    <tr>\n",
       "      <th>2</th>\n",
       "      <td>USA-Ultimate-D-I-College-Championships/schedul...</td>\n",
       "      <td>Texas (3)</td>\n",
       "      <td>Oregon (4)</td>\n",
       "      <td>10</td>\n",
       "      <td>15</td>\n",
       "      <td>3</td>\n",
       "      <td>4</td>\n",
       "    </tr>\n",
       "    <tr>\n",
       "      <th>3</th>\n",
       "      <td>USA-Ultimate-D-I-College-Championships/schedul...</td>\n",
       "      <td>Michigan (11)</td>\n",
       "      <td>Tufts (15)</td>\n",
       "      <td>15</td>\n",
       "      <td>12</td>\n",
       "      <td>11</td>\n",
       "      <td>15</td>\n",
       "    </tr>\n",
       "    <tr>\n",
       "      <th>4</th>\n",
       "      <td>USA-Ultimate-D-I-College-Championships/schedul...</td>\n",
       "      <td>Texas (3)</td>\n",
       "      <td>Central Florida (14)</td>\n",
       "      <td>15</td>\n",
       "      <td>14</td>\n",
       "      <td>3</td>\n",
       "      <td>14</td>\n",
       "    </tr>\n",
       "  </tbody>\n",
       "</table>\n",
       "</div>"
      ],
      "text/plain": [
       "                                               event      home_team  \\\n",
       "0  USA-Ultimate-D-I-College-Championships/schedul...   Colorado (1)   \n",
       "1  USA-Ultimate-D-I-College-Championships/schedul...   Colorado (1)   \n",
       "2  USA-Ultimate-D-I-College-Championships/schedul...      Texas (3)   \n",
       "3  USA-Ultimate-D-I-College-Championships/schedul...  Michigan (11)   \n",
       "4  USA-Ultimate-D-I-College-Championships/schedul...      Texas (3)   \n",
       "\n",
       "              away_team  home_score  away_score  home_seed  away_seed  \n",
       "0    North Carolina (6)          15          10          1          6  \n",
       "1            Oregon (4)          15           8          1          4  \n",
       "2            Oregon (4)          10          15          3          4  \n",
       "3            Tufts (15)          15          12         11         15  \n",
       "4  Central Florida (14)          15          14          3         14  "
      ]
     },
     "execution_count": 202,
     "metadata": {},
     "output_type": "execute_result"
    }
   ],
   "source": [
    "brak = df[df['type']=='bracket'][['event','home_team','away_team','home_score','away_score','home_seed','away_seed']]\n",
    "# reorganize seeding\n",
    "brak1 = brak[brak['home_seed'] > brak['away_seed']]\n",
    "brak1.columns = ['event','away_team','home_team','away_score','home_score','away_seed','home_seed']\n",
    "brak = brak[brak['home_seed'] < brak['away_seed']].append(brak1,ignore_index=True,sort=False)\n",
    "brak.head()"
   ]
  },
  {
   "cell_type": "markdown",
   "metadata": {},
   "source": [
    "Here's the probabilities for bracket play "
   ]
  },
  {
   "cell_type": "code",
   "execution_count": 409,
   "metadata": {
    "scrolled": true
   },
   "outputs": [
    {
     "data": {
      "text/plain": [
       "home_seed  away_seed\n",
       "1          2            0.166667\n",
       "           4            0.500000\n",
       "           6            0.333333\n",
       "           7            0.000000\n",
       "           9            0.000000\n",
       "Name: sum, dtype: float64"
      ]
     },
     "execution_count": 409,
     "metadata": {},
     "output_type": "execute_result"
    }
   ],
   "source": [
    "brak['pnt_diff'] = brak['home_score'] - brak['away_score']\n",
    "brak['home_W'] = brak['home_score'] > brak['away_score']\n",
    "brak_info = brak[['home_seed','away_seed','pnt_diff','home_W']].groupby(['home_seed','away_seed']).agg(['sum'])\n",
    "years = brak['event'].nunique()\n",
    "brak_odds = brak_info['home_W']['sum']/years\n",
    "brak_odds.head()"
   ]
  },
  {
   "cell_type": "markdown",
   "metadata": {},
   "source": [
    "#### Simulate Chapionship Bracketplay"
   ]
  },
  {
   "cell_type": "raw",
   "metadata": {},
   "source": [
    "B2 vs. C3-\\\n",
    "          |-B2/C2 vs. A1-\\\n",
    "                         |-(B2/C2)/A1 vs. (C2/B3)/D1-\\\n",
    "C2 vs. B3-\\              |                           |\n",
    "          |-C2/B3 vs. D1-/                           |\n",
    "                                                     |-Championship\n",
    "D2 vs. A3-\\                                          |\n",
    "          |-D2/A3 vs. C1-\\                           |\n",
    "                         |-(D2/A3)/C1 vs. (A2/D3)/B1-/\n",
    "A2 vs. D3-\\              |\n",
    "          |-A2/D3 vs. B1-/"
   ]
  },
  {
   "cell_type": "markdown",
   "metadata": {},
   "source": [
    "copy the probabilities over"
   ]
  },
  {
   "cell_type": "code",
   "execution_count": 418,
   "metadata": {},
   "outputs": [],
   "source": [
    "# add missing matchups that may cause error\n",
    "for i in [y for y in range(1,20) if y not in brak_odds.index.levels[0]]:\n",
    "    for j in range(i+1,21):\n",
    "        brak_odds[i,j]=0.5\n",
    "for i in brak_odds.index.levels[0]:\n",
    "    for j in [x for x in range(i+1,21) if x not in brak_odds[i].index]:\n",
    "        brak_odds[i,j]=0.5\n",
    "# copy inverse probabilities over\n",
    "for i in brak_odds.index.levels[0]:\n",
    "    for j in brak_odds[i].index:\n",
    "        #print(f\"brak_odds[{j},{i}] = {1-brak_odds[i][j]}\")\n",
    "        brak_odds[j,i] = 1-brak_odds[i][j]\n",
    "#print(brak_odds)"
   ]
  },
  {
   "cell_type": "code",
   "execution_count": 419,
   "metadata": {},
   "outputs": [],
   "source": [
    "bP = [[0 for j in range(nSimul)] for i in range(4)] # prequarters\n",
    "bQ = [[0 for j in range(nSimul)] for i in range(4)] # quarters\n",
    "bS = [[0 for j in range(nSimul)] for i in range(2)] # semifinals\n",
    "bF = [[0 for j in range(nSimul)] for i in range(1)] # finals\n",
    "for l in range(nSimul):\n",
    "    # prequarters\n",
    "    A2 = poolAtop3[1][l]\n",
    "    A3 = poolAtop3[2][l]\n",
    "    B2 = poolBtop3[1][l]\n",
    "    B3 = poolBtop3[2][l]\n",
    "    C2 = poolCtop3[1][l]\n",
    "    C3 = poolCtop3[2][l]\n",
    "    D2 = poolDtop3[1][l]\n",
    "    D3 = poolDtop3[2][l]\n",
    "    #print(f\"A2: {A2}, A3: {A3}, B2: {B2}, B3: {B3}, C2: {C2}, C3: {C3}, D2: {D2}, D3: {D3}\")\n",
    "    bP[0][l] = B2 if (random.uniform(0,1) < brak_odds[B2][C3]) else C3\n",
    "    bP[1][l] = C2 if (random.uniform(0,1) < brak_odds[C2][B3]) else B3\n",
    "    bP[2][l] = D2 if (random.uniform(0,1) < brak_odds[D2][A3]) else A3\n",
    "    bP[3][l] = A2 if (random.uniform(0,1) < brak_odds[A2][D3]) else D3\n",
    "    \n",
    "    # quarters\n",
    "    #print(f\"G1: {bP[0][l]}, G2: {bP[1][l]}, G3: {bP[2][l]}, G4: {bP[3][l]}\")\n",
    "    A1 = poolAtop3[0][l]\n",
    "    B1 = poolBtop3[0][l]\n",
    "    C1 = poolCtop3[0][l]\n",
    "    D1 = poolDtop3[0][l]\n",
    "    #print(f\"A1: {A1}, B1: {B1}, C1: {C1}, D1: {D1}\")\n",
    "    bQ[0][l] = bP[0][l] if (random.uniform(0,1) < brak_odds[bP[0][l]][A1]) else A1\n",
    "    bQ[1][l] = bP[1][l] if (random.uniform(0,1) < brak_odds[bP[1][l]][D1]) else D1\n",
    "    bQ[2][l] = bP[2][l] if (random.uniform(0,1) < brak_odds[bP[2][l]][C1]) else C1\n",
    "    bQ[3][l] = bP[3][l] if (random.uniform(0,1) < brak_odds[bP[3][l]][B1]) else B1\n",
    "    \n",
    "    # semifinals\n",
    "    #print(f\"Q1: {bQ[0][l]}, Q2: {bQ[1][l]}, Q3: {bQ[2][l]}, Q4: {bQ[3][l]}\")\n",
    "    bS[0][l] = bQ[0][l] if (random.uniform(0,1) < brak_odds[bQ[0][l]][bQ[1][l]]) else bQ[1][l]\n",
    "    bS[1][l] = bQ[2][l] if (random.uniform(0,1) < brak_odds[bQ[2][l]][bQ[3][l]]) else bQ[3][l]\n",
    "    \n",
    "    # finals\n",
    "    #print(f\"S1: {bS[0][l]}, S2: {bS[1][l]}\")\n",
    "    bF[0][l] = bS[0][l] if (random.uniform(0,1) < brak_odds[bS[0][l]][bS[1][l]]) else bS[1][l]"
   ]
  },
  {
   "cell_type": "code",
   "execution_count": 420,
   "metadata": {
    "scrolled": true
   },
   "outputs": [
    {
     "data": {
      "text/html": [
       "<div>\n",
       "<style scoped>\n",
       "    .dataframe tbody tr th:only-of-type {\n",
       "        vertical-align: middle;\n",
       "    }\n",
       "\n",
       "    .dataframe tbody tr th {\n",
       "        vertical-align: top;\n",
       "    }\n",
       "\n",
       "    .dataframe thead th {\n",
       "        text-align: right;\n",
       "    }\n",
       "</style>\n",
       "<table border=\"1\" class=\"dataframe\">\n",
       "  <thead>\n",
       "    <tr style=\"text-align: right;\">\n",
       "      <th></th>\n",
       "      <th>0</th>\n",
       "      <th>1</th>\n",
       "      <th>2</th>\n",
       "      <th>3</th>\n",
       "    </tr>\n",
       "  </thead>\n",
       "  <tbody>\n",
       "    <tr>\n",
       "      <th>0</th>\n",
       "      <td>15</td>\n",
       "      <td>6</td>\n",
       "      <td>4</td>\n",
       "      <td>5</td>\n",
       "    </tr>\n",
       "    <tr>\n",
       "      <th>1</th>\n",
       "      <td>10</td>\n",
       "      <td>14</td>\n",
       "      <td>16</td>\n",
       "      <td>1</td>\n",
       "    </tr>\n",
       "    <tr>\n",
       "      <th>2</th>\n",
       "      <td>15</td>\n",
       "      <td>14</td>\n",
       "      <td>17</td>\n",
       "      <td>9</td>\n",
       "    </tr>\n",
       "    <tr>\n",
       "      <th>3</th>\n",
       "      <td>10</td>\n",
       "      <td>11</td>\n",
       "      <td>5</td>\n",
       "      <td>9</td>\n",
       "    </tr>\n",
       "    <tr>\n",
       "      <th>4</th>\n",
       "      <td>15</td>\n",
       "      <td>7</td>\n",
       "      <td>12</td>\n",
       "      <td>9</td>\n",
       "    </tr>\n",
       "  </tbody>\n",
       "</table>\n",
       "</div>"
      ],
      "text/plain": [
       "    0   1   2  3\n",
       "0  15   6   4  5\n",
       "1  10  14  16  1\n",
       "2  15  14  17  9\n",
       "3  10  11   5  9\n",
       "4  15   7  12  9"
      ]
     },
     "execution_count": 420,
     "metadata": {},
     "output_type": "execute_result"
    }
   ],
   "source": [
    "preq_finalists = pd.DataFrame(np.array(bP).T)\n",
    "quar_finalists = pd.DataFrame(np.array(bQ).T)\n",
    "semi_finalists = pd.DataFrame(np.array(bS).T)\n",
    "champions = pd.DataFrame(np.array(bF).T)\n",
    "preq_finalists.head()"
   ]
  },
  {
   "cell_type": "code",
   "execution_count": 421,
   "metadata": {},
   "outputs": [
    {
     "name": "stdout",
     "output_type": "stream",
     "text": [
      "probability of starting team seeds moving past PQ1: {2: 0.037, 3: 0.0434, 6: 0.0744, 7: 0.0575, 10: 0.2692, 11: 0.2912, 14: 0.0265, 15: 0.1731, 19: 0.0277}\n",
      "probability of starting team seeds moving past PQ2: {2: 0.0065, 3: 0.0545, 6: 0.1134, 7: 0.3057, 10: 0.12, 11: 0.1521, 14: 0.1767, 15: 0.0584, 18: 0.0035, 19: 0.0092}\n",
      "probability of starting team seeds moving past PQ3: {1: 0.0104, 4: 0.1439, 5: 0.1692, 8: 0.0544, 9: 0.2452, 12: 0.1657, 13: 0.0444, 16: 0.0934, 17: 0.0734}\n",
      "probability of starting team seeds moving past PQ4: {1: 0.0415, 4: 0.1507, 5: 0.1287, 8: 0.2277, 9: 0.3418, 12: 0.0305, 13: 0.0208, 16: 0.0448, 17: 0.0135}\n"
     ]
    }
   ],
   "source": [
    "unique_el, counts_el = np.unique(preq_finalists[0],return_counts=True)\n",
    "prob_PQ1 = dict(zip(unique_el,counts_el/nSimul))\n",
    "print(f\"probability of starting team seeds moving past PQ1: {prob_PQ1}\")\n",
    "unique_el, counts_el = np.unique(preq_finalists[1],return_counts=True)\n",
    "prob_PQ2 = dict(zip(unique_el,counts_el/nSimul))\n",
    "print(f\"probability of starting team seeds moving past PQ2: {prob_PQ2}\")\n",
    "unique_el, counts_el = np.unique(preq_finalists[2],return_counts=True)\n",
    "prob_PQ3 = dict(zip(unique_el,counts_el/nSimul))\n",
    "print(f\"probability of starting team seeds moving past PQ3: {prob_PQ3}\")\n",
    "unique_el, counts_el = np.unique(preq_finalists[3],return_counts=True)\n",
    "prob_PQ4 = dict(zip(unique_el,counts_el/nSimul))\n",
    "print(f\"probability of starting team seeds moving past PQ4: {prob_PQ4}\")"
   ]
  },
  {
   "cell_type": "code",
   "execution_count": 422,
   "metadata": {},
   "outputs": [
    {
     "name": "stdout",
     "output_type": "stream",
     "text": [
      "probability of starting team seeds moving past Q1: {1: 0.3033, 2: 0.0275, 3: 0.0123, 6: 0.05, 7: 0.0561, 8: 0.0276, 10: 0.227, 11: 0.2441, 12: 0.0009, 13: 0.0043, 14: 0.0052, 15: 0.0365, 17: 0.0002, 19: 0.005}\n",
      "probability of starting team seeds moving past Q2: {2: 0.0031, 3: 0.0098, 4: 0.2291, 5: 0.2228, 6: 0.0969, 7: 0.0847, 9: 0.0598, 10: 0.0788, 11: 0.0879, 14: 0.1011, 15: 0.0128, 16: 0.0105, 18: 0.0006, 19: 0.0021}\n",
      "probability of starting team seeds moving past Q3: {1: 0.0064, 3: 0.2265, 4: 0.0625, 5: 0.0936, 6: 0.2282, 8: 0.0112, 9: 0.195, 10: 0.0558, 12: 0.0746, 13: 0.0094, 15: 0.0022, 16: 0.0195, 17: 0.015, 19: 0.0001}\n",
      "probability of starting team seeds moving past Q4: {1: 0.0061, 2: 0.2224, 4: 0.0362, 5: 0.0939, 7: 0.0304, 8: 0.1113, 9: 0.2663, 11: 0.2089, 12: 0.0064, 13: 0.0043, 14: 0.0006, 16: 0.0101, 17: 0.0031}\n"
     ]
    }
   ],
   "source": [
    "unique_el, counts_el = np.unique(quar_finalists[0],return_counts=True)\n",
    "prob_Q1 = dict(zip(unique_el,counts_el/nSimul))\n",
    "print(f\"probability of starting team seeds moving past Q1: {prob_Q1}\")\n",
    "unique_el, counts_el = np.unique(quar_finalists[1],return_counts=True)\n",
    "prob_Q2 = dict(zip(unique_el,counts_el/nSimul))\n",
    "print(f\"probability of starting team seeds moving past Q2: {prob_Q2}\")\n",
    "unique_el, counts_el = np.unique(quar_finalists[2],return_counts=True)\n",
    "prob_Q3 = dict(zip(unique_el,counts_el/nSimul))\n",
    "print(f\"probability of starting team seeds moving past Q3: {prob_Q3}\")\n",
    "unique_el, counts_el = np.unique(quar_finalists[3],return_counts=True)\n",
    "prob_Q4 = dict(zip(unique_el,counts_el/nSimul))\n",
    "print(f\"probability of starting team seeds moving past Q4: {prob_Q4}\")"
   ]
  },
  {
   "cell_type": "code",
   "execution_count": 423,
   "metadata": {},
   "outputs": [
    {
     "name": "stdout",
     "output_type": "stream",
     "text": [
      "probability of starting team seeds moving past S1: {1: 0.1425, 2: 0.0148, 3: 0.0075, 4: 0.0754, 5: 0.1266, 6: 0.0935, 7: 0.0753, 8: 0.009, 9: 0.0404, 10: 0.1479, 11: 0.1981, 12: 0.0005, 13: 0.0009, 14: 0.0422, 15: 0.021, 16: 0.0026, 17: 0.0001, 18: 0.0001, 19: 0.0016}\n",
      "probability of starting team seeds moving past S2: {1: 0.0031, 2: 0.0493, 3: 0.0821, 4: 0.0542, 5: 0.1305, 6: 0.1216, 7: 0.0187, 8: 0.0348, 9: 0.2958, 10: 0.0395, 11: 0.1331, 12: 0.0212, 13: 0.0026, 14: 0.0003, 15: 0.0011, 16: 0.0069, 17: 0.0052}\n"
     ]
    }
   ],
   "source": [
    "unique_el, counts_el = np.unique(semi_finalists[0],return_counts=True)\n",
    "prob_S1 = dict(zip(unique_el,counts_el/nSimul))\n",
    "print(f\"probability of starting team seeds moving past S1: {prob_S1}\")\n",
    "unique_el, counts_el = np.unique(semi_finalists[1],return_counts=True)\n",
    "prob_S2 = dict(zip(unique_el,counts_el/nSimul))\n",
    "print(f\"probability of starting team seeds moving past S2: {prob_S2}\")"
   ]
  },
  {
   "cell_type": "code",
   "execution_count": 424,
   "metadata": {},
   "outputs": [
    {
     "name": "stdout",
     "output_type": "stream",
     "text": [
      "probability of starting team seeds winning nationals: {1: 0.0468, 2: 0.034, 3: 0.0252, 4: 0.0533, 5: 0.1698, 6: 0.1113, 7: 0.0553, 8: 0.0076, 9: 0.1897, 10: 0.0902, 11: 0.1817, 12: 0.0065, 13: 0.0007, 14: 0.0143, 15: 0.0098, 16: 0.0019, 17: 0.0017, 19: 0.0002}\n"
     ]
    }
   ],
   "source": [
    "unique_el, counts_el = np.unique(champions[0],return_counts=True)\n",
    "prob_Champ = dict(zip(unique_el,counts_el/nSimul))\n",
    "print(f\"probability of starting team seeds winning nationals: {prob_Champ}\")"
   ]
  },
  {
   "cell_type": "code",
   "execution_count": 425,
   "metadata": {},
   "outputs": [
    {
     "data": {
      "text/plain": [
       "<matplotlib.axes._subplots.AxesSubplot at 0xba887847b8>"
      ]
     },
     "execution_count": 425,
     "metadata": {},
     "output_type": "execute_result"
    },
    {
     "data": {
      "image/png": "[encoded data removed]",
      "text/plain": [
       "<Figure size 432x288 with 1 Axes>"
      ]
     },
     "metadata": {},
     "output_type": "display_data"
    },
    {
     "data": {
      "image/png": "[encoded data removed]",
      "text/plain": [
       "<Figure size 432x288 with 1 Axes>"
      ]
     },
     "metadata": {},
     "output_type": "display_data"
    },
    {
     "data": {
      "image/png": "[encoded data removed]",
      "text/plain": [
       "<Figure size 432x288 with 1 Axes>"
      ]
     },
     "metadata": {},
     "output_type": "display_data"
    },
    {
     "data": {
      "image/png": "[encoded data removed]",
      "text/plain": [
       "<Figure size 432x288 with 1 Axes>"
      ]
     },
     "metadata": {},
     "output_type": "display_data"
    }
   ],
   "source": [
    "preq_finalists.columns = ['PQ1: B2 vs C3','PQ2: C2 vs B3','PQ3: D2 vs A3','PQ4: A2 vs D3']\n",
    "quar_finalists.columns = ['Q1: PQ1 vs A1','Q2: PQ2 vs D1','Q3: PQ3 vs C1','Q4: PQ4 vs B1']\n",
    "semi_finalists.columns = ['S1: Q1 vs Q2','S2: Q3 vs Q4']\n",
    "champions.columns = ['Champ: S1 vs S2']\n",
    "preq_finalists.plot.hist(title=\"Prequarter Finalists\",bins=20)\n",
    "quar_finalists.plot.hist(title=\"Quarter Finalists\",bins=20)\n",
    "semi_finalists.plot.hist(title=\"Semi Finalists\",bins=20)\n",
    "champions.plot.hist(title=\"Champions\",bins=20)"
   ]
  },
  {
   "cell_type": "markdown",
   "metadata": {},
   "source": [
    "We're seeing some interesting results in the histograms for bracket play results. It makes some sense for the Prequarter Finalists to be roughly normally distributed about ~10. Higher seeded teams are expected to perform well and get a first-round bye. Lower seeded teams are expected to perform poorly and not even appear in the bracket.\n",
    "The resulting Quarter Finalists look okay. The higher seeded teams had those first-round byes and the lower seeded teams appear at an even lower frequency.\n",
    "The resulting Semi Finalists reveals something interesting. The highest seeded teams, who are expected to have the first-round bye, do not have as good of a probability of making it past their semifinal opponent."
   ]
  },
  {
   "cell_type": "markdown",
   "metadata": {},
   "source": [
    "There is some debate in the ultimate community over if a first-round bye is truly advantageous. Perhaps these findings suggest that it is useful in game immediately following the bye"
   ]
  },
  {
   "cell_type": "markdown",
   "metadata": {},
   "source": [
    "I think I can safely blame the weird results on the small sample size of only 6 years of data. I could probably increase the reliability of results by adding data from regular season tournaments (excluding power pool tournaments) with 20 teams, such as `Easterns` or `Santa Barbara Invite`, or even a 16 team tournament, such as `President's Day Invite`. I could also potentially grab data from the Club division, but that might skew the results."
   ]
  },
  {
   "cell_type": "code",
   "execution_count": null,
   "metadata": {},
   "outputs": [],
   "source": []
  }
 ],
 "metadata": {
  "kernelspec": {
   "display_name": "Python 3",
   "language": "python",
   "name": "python3"
  },
  "language_info": {
   "codemirror_mode": {
    "name": "ipython",
    "version": 3
   },
   "file_extension": ".py",
   "mimetype": "text/x-python",
   "name": "python",
   "nbconvert_exporter": "python",
   "pygments_lexer": "ipython3",
   "version": "3.6.5"
  }
 },
 "nbformat": 4,
 "nbformat_minor": 2
}
