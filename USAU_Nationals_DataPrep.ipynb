{
 "cells": [
  {
   "cell_type": "markdown",
   "metadata": {},
   "source": [
    "# USAU College Nationals Data Prep"
   ]
  },
  {
   "cell_type": "code",
   "execution_count": 39,
   "metadata": {},
   "outputs": [],
   "source": [
    "import os\n",
    "import requests\n",
    "import numpy as np\n",
    "import pandas as pd\n",
    "from bs4 import BeautifulSoup as bs\n",
    "import matplotlib.pyplot as plt\n",
    "import random"
   ]
  },
  {
   "cell_type": "markdown",
   "metadata": {},
   "source": [
    "Here's how a 20 team tournament is organized"
   ]
  },
  {
   "cell_type": "code",
   "execution_count": 10,
   "metadata": {},
   "outputs": [
    {
     "data": {
      "text/html": [
       "<div>\n",
       "<style scoped>\n",
       "    .dataframe tbody tr th:only-of-type {\n",
       "        vertical-align: middle;\n",
       "    }\n",
       "\n",
       "    .dataframe tbody tr th {\n",
       "        vertical-align: top;\n",
       "    }\n",
       "\n",
       "    .dataframe thead th {\n",
       "        text-align: right;\n",
       "    }\n",
       "</style>\n",
       "<table border=\"1\" class=\"dataframe\">\n",
       "  <thead>\n",
       "    <tr style=\"text-align: right;\">\n",
       "      <th></th>\n",
       "      <th>Pool A</th>\n",
       "      <th>Pool B</th>\n",
       "      <th>Pool C</th>\n",
       "      <th>Pool D</th>\n",
       "    </tr>\n",
       "  </thead>\n",
       "  <tbody>\n",
       "    <tr>\n",
       "      <th>0</th>\n",
       "      <td>1</td>\n",
       "      <td>2</td>\n",
       "      <td>3</td>\n",
       "      <td>4</td>\n",
       "    </tr>\n",
       "    <tr>\n",
       "      <th>1</th>\n",
       "      <td>8</td>\n",
       "      <td>7</td>\n",
       "      <td>6</td>\n",
       "      <td>5</td>\n",
       "    </tr>\n",
       "    <tr>\n",
       "      <th>2</th>\n",
       "      <td>12</td>\n",
       "      <td>11</td>\n",
       "      <td>10</td>\n",
       "      <td>9</td>\n",
       "    </tr>\n",
       "    <tr>\n",
       "      <th>3</th>\n",
       "      <td>13</td>\n",
       "      <td>14</td>\n",
       "      <td>15</td>\n",
       "      <td>16</td>\n",
       "    </tr>\n",
       "    <tr>\n",
       "      <th>4</th>\n",
       "      <td>17</td>\n",
       "      <td>18</td>\n",
       "      <td>19</td>\n",
       "      <td>20</td>\n",
       "    </tr>\n",
       "  </tbody>\n",
       "</table>\n",
       "</div>"
      ],
      "text/plain": [
       "   Pool A  Pool B  Pool C  Pool D\n",
       "0       1       2       3       4\n",
       "1       8       7       6       5\n",
       "2      12      11      10       9\n",
       "3      13      14      15      16\n",
       "4      17      18      19      20"
      ]
     },
     "execution_count": 10,
     "metadata": {},
     "output_type": "execute_result"
    }
   ],
   "source": [
    "poolteams = {'Pool A':[1,8,12,13,17],'Pool B':[2,7,11,14,18],'Pool C':[3,6,10,15,19],'Pool D':[4,5,9,16,20]}\n",
    "poolassignments = pd.DataFrame(poolteams)\n",
    "poolassignments"
   ]
  },
  {
   "cell_type": "markdown",
   "metadata": {},
   "source": [
    "load in scraped data"
   ]
  },
  {
   "cell_type": "code",
   "execution_count": 3,
   "metadata": {
    "scrolled": false
   },
   "outputs": [
    {
     "data": {
      "text/html": [
       "<div>\n",
       "<style scoped>\n",
       "    .dataframe tbody tr th:only-of-type {\n",
       "        vertical-align: middle;\n",
       "    }\n",
       "\n",
       "    .dataframe tbody tr th {\n",
       "        vertical-align: top;\n",
       "    }\n",
       "\n",
       "    .dataframe thead th {\n",
       "        text-align: right;\n",
       "    }\n",
       "</style>\n",
       "<table border=\"1\" class=\"dataframe\">\n",
       "  <thead>\n",
       "    <tr style=\"text-align: right;\">\n",
       "      <th></th>\n",
       "      <th>event</th>\n",
       "      <th>type</th>\n",
       "      <th>home_team</th>\n",
       "      <th>away_team</th>\n",
       "      <th>home_score</th>\n",
       "      <th>away_score</th>\n",
       "      <th>home_seed</th>\n",
       "      <th>away_seed</th>\n",
       "      <th>pnt_diff</th>\n",
       "      <th>home_W</th>\n",
       "    </tr>\n",
       "  </thead>\n",
       "  <tbody>\n",
       "    <tr>\n",
       "      <th>0</th>\n",
       "      <td>USA-Ultimate-D-I-College-Championships/schedul...</td>\n",
       "      <td>pool</td>\n",
       "      <td>Colorado (1)</td>\n",
       "      <td>Harvard (8)</td>\n",
       "      <td>15</td>\n",
       "      <td>11</td>\n",
       "      <td>1</td>\n",
       "      <td>8</td>\n",
       "      <td>4</td>\n",
       "      <td>True</td>\n",
       "    </tr>\n",
       "    <tr>\n",
       "      <th>1</th>\n",
       "      <td>USA-Ultimate-D-I-College-Championships/schedul...</td>\n",
       "      <td>pool</td>\n",
       "      <td>Wisconsin (12)</td>\n",
       "      <td>California-San Diego (13)</td>\n",
       "      <td>15</td>\n",
       "      <td>7</td>\n",
       "      <td>12</td>\n",
       "      <td>13</td>\n",
       "      <td>8</td>\n",
       "      <td>True</td>\n",
       "    </tr>\n",
       "    <tr>\n",
       "      <th>2</th>\n",
       "      <td>USA-Ultimate-D-I-College-Championships/schedul...</td>\n",
       "      <td>pool</td>\n",
       "      <td>Harvard (8)</td>\n",
       "      <td>California-San Diego (13)</td>\n",
       "      <td>15</td>\n",
       "      <td>14</td>\n",
       "      <td>8</td>\n",
       "      <td>13</td>\n",
       "      <td>1</td>\n",
       "      <td>True</td>\n",
       "    </tr>\n",
       "    <tr>\n",
       "      <th>3</th>\n",
       "      <td>USA-Ultimate-D-I-College-Championships/schedul...</td>\n",
       "      <td>pool</td>\n",
       "      <td>Wisconsin (12)</td>\n",
       "      <td>Eastern Michigan (17)</td>\n",
       "      <td>15</td>\n",
       "      <td>11</td>\n",
       "      <td>12</td>\n",
       "      <td>17</td>\n",
       "      <td>4</td>\n",
       "      <td>True</td>\n",
       "    </tr>\n",
       "    <tr>\n",
       "      <th>4</th>\n",
       "      <td>USA-Ultimate-D-I-College-Championships/schedul...</td>\n",
       "      <td>pool</td>\n",
       "      <td>Colorado (1)</td>\n",
       "      <td>Eastern Michigan (17)</td>\n",
       "      <td>15</td>\n",
       "      <td>9</td>\n",
       "      <td>1</td>\n",
       "      <td>17</td>\n",
       "      <td>6</td>\n",
       "      <td>True</td>\n",
       "    </tr>\n",
       "  </tbody>\n",
       "</table>\n",
       "</div>"
      ],
      "text/plain": [
       "                                               event  type       home_team  \\\n",
       "0  USA-Ultimate-D-I-College-Championships/schedul...  pool    Colorado (1)   \n",
       "1  USA-Ultimate-D-I-College-Championships/schedul...  pool  Wisconsin (12)   \n",
       "2  USA-Ultimate-D-I-College-Championships/schedul...  pool     Harvard (8)   \n",
       "3  USA-Ultimate-D-I-College-Championships/schedul...  pool  Wisconsin (12)   \n",
       "4  USA-Ultimate-D-I-College-Championships/schedul...  pool    Colorado (1)   \n",
       "\n",
       "                   away_team  home_score  away_score  home_seed  away_seed  \\\n",
       "0                Harvard (8)          15          11          1          8   \n",
       "1  California-San Diego (13)          15           7         12         13   \n",
       "2  California-San Diego (13)          15          14          8         13   \n",
       "3      Eastern Michigan (17)          15          11         12         17   \n",
       "4      Eastern Michigan (17)          15           9          1         17   \n",
       "\n",
       "   pnt_diff  home_W  \n",
       "0         4    True  \n",
       "1         8    True  \n",
       "2         1    True  \n",
       "3         4    True  \n",
       "4         6    True  "
      ]
     },
     "execution_count": 3,
     "metadata": {},
     "output_type": "execute_result"
    }
   ],
   "source": [
    "df = pd.read_csv('./data/ultimate/CollegeSeries/open_nationals_allgames.csv')\n",
    "df['pnt_diff'] = df['home_score'] - df['away_score']\n",
    "df['home_W'] = df['home_score'] > df['away_score']\n",
    "df.head()"
   ]
  },
  {
   "cell_type": "markdown",
   "metadata": {},
   "source": [
    "Here's the probabilities for pool play"
   ]
  },
  {
   "cell_type": "code",
   "execution_count": 7,
   "metadata": {},
   "outputs": [
    {
     "data": {
      "text/plain": [
       "home_seed  away_seed\n",
       "1          8            0.833333\n",
       "           12           1.000000\n",
       "           13           0.666667\n",
       "           17           1.000000\n",
       "2          7            0.833333\n",
       "Name: sum, dtype: float64"
      ]
     },
     "execution_count": 7,
     "metadata": {},
     "output_type": "execute_result"
    }
   ],
   "source": [
    "pool = df[df['type']=='pool']\n",
    "pool_info = pool[['home_seed','away_seed','pnt_diff','home_W']].groupby(['home_seed','away_seed']).agg(['sum'])\n",
    "years = pool['event'].nunique()\n",
    "pool_odds = pool_info['home_W']['sum']/years\n",
    "pool_odds.head()"
   ]
  },
  {
   "cell_type": "code",
   "execution_count": 47,
   "metadata": {},
   "outputs": [],
   "source": [
    "# 5 teams in each pool, n(n-1)/2 games in each pool\n",
    "nPools = 4\n",
    "nTeams = 5\n",
    "nGames = int(nTeams*(nTeams-1)/2)\n",
    "nSimul = 10000\n",
    "pA = [[0 for j in range(nGames)] for i in range(nSimul)]\n",
    "pB = [[0 for j in range(nGames)] for i in range(nSimul)]\n",
    "pC = [[0 for j in range(nGames)] for i in range(nSimul)]\n",
    "pD = [[0 for j in range(nGames)] for i in range(nSimul)]\n",
    "pool_standings = [[{} for j in range(nPools)] for i in range(nSimul)]"
   ]
  },
  {
   "cell_type": "code",
   "execution_count": 49,
   "metadata": {},
   "outputs": [],
   "source": [
    "# TODO: need to generalize this loop\n",
    "for l in range(nSimul):\n",
    "    # Pool A\n",
    "    pA[l][0] = 1 if (random.uniform(0,1) < pool_odds[1][8]) else 8\n",
    "    pA[l][1] = 12 if (random.uniform(0,1) < pool_odds[12][13]) else 13\n",
    "    pA[l][2] = 8 if (random.uniform(0,1) < pool_odds[8][13]) else 13\n",
    "    pA[l][3] = 12 if (random.uniform(0,1) < pool_odds[12][17]) else 17\n",
    "    pA[l][4] = 1 if (random.uniform(0,1) < pool_odds[1][17]) else 17\n",
    "    pA[l][5] = 1 if (random.uniform(0,1) < pool_odds[1][12]) else 12\n",
    "    pA[l][6] = 8 if (random.uniform(0,1) < pool_odds[8][17]) else 17\n",
    "    pA[l][7] = 1 if (random.uniform(0,1) < pool_odds[1][13]) else 13\n",
    "    pA[l][8] = 8 if (random.uniform(0,1) < pool_odds[8][12]) else 12\n",
    "    pA[l][9] = 13 if (random.uniform(0,1) < pool_odds[13][17]) else 17\n",
    "    unique_el, counts_el = np.unique(pA[l][:],return_counts=True)\n",
    "    pool_standings[l][0] = dict(zip(unique_el,counts_el))\n",
    "    \n",
    "    # Pool B\n",
    "    pB[l][0] = 2 if (random.uniform(0,1) < pool_odds[2][18]) else 18\n",
    "    pB[l][1] = 7 if (random.uniform(0,1) < pool_odds[7][14]) else 14\n",
    "    pB[l][2] = 2 if (random.uniform(0,1) < pool_odds[2][7]) else 7\n",
    "    pB[l][3] = 11 if (random.uniform(0,1) < pool_odds[11][14]) else 14\n",
    "    pB[l][4] = 11 if (random.uniform(0,1) < pool_odds[11][18]) else 18\n",
    "    pB[l][5] = 2 if (random.uniform(0,1) < pool_odds[2][11]) else 11\n",
    "    pB[l][6] = 7 if (random.uniform(0,1) < pool_odds[7][18]) else 18\n",
    "    pB[l][7] = 14 if (random.uniform(0,1) < pool_odds[14][18]) else 18\n",
    "    pB[l][8] = 7 if (random.uniform(0,1) < pool_odds[7][11]) else 11\n",
    "    pB[l][9] = 2 if (random.uniform(0,1) < pool_odds[2][14]) else 14\n",
    "    unique_el, counts_el = np.unique(pB[l][:],return_counts=True)\n",
    "    pool_standings[l][1] = dict(zip(unique_el,counts_el))\n",
    "    \n",
    "    # Pool C\n",
    "    pC[l][0] = 1 if (random.uniform(0,1) < pool_odds[6][15]) else 8\n",
    "    pC[l][1] = 12 if (random.uniform(0,1) < pool_odds[10][19]) else 13\n",
    "    pC[l][2] = 8 if (random.uniform(0,1) < pool_odds[3][6]) else 13\n",
    "    pC[l][3] = 12 if (random.uniform(0,1) < pool_odds[10][15]) else 17\n",
    "    pC[l][4] = 1 if (random.uniform(0,1) < pool_odds[3][19]) else 17\n",
    "    pC[l][5] = 1 if (random.uniform(0,1) < pool_odds[15][19]) else 12\n",
    "    pC[l][6] = 8 if (random.uniform(0,1) < pool_odds[3][10]) else 17\n",
    "    pC[l][7] = 1 if (random.uniform(0,1) < pool_odds[6][19]) else 13\n",
    "    pC[l][8] = 8 if (random.uniform(0,1) < pool_odds[3][15]) else 12\n",
    "    pC[l][9] = 13 if (random.uniform(0,1) < pool_odds[6][10]) else 17\n",
    "    unique_el, counts_el = np.unique(pC[l][:],return_counts=True)\n",
    "    pool_standings[l][2] = dict(zip(unique_el,counts_el))\n",
    "    \n",
    "    # Pool D\n",
    "    pD[l][0] = 5 if (random.uniform(0,1) < pool_odds[5][16]) else 16\n",
    "    pD[l][1] = 9 if (random.uniform(0,1) < pool_odds[9][20]) else 20\n",
    "    pD[l][2] = 4 if (random.uniform(0,1) < pool_odds[4][20]) else 20\n",
    "    pD[l][3] = 9 if (random.uniform(0,1) < pool_odds[9][16]) else 16\n",
    "    pD[l][4] = 4 if (random.uniform(0,1) < pool_odds[4][5]) else 5\n",
    "    pD[l][5] = 4 if (random.uniform(0,1) < pool_odds[4][9]) else 9\n",
    "    pD[l][6] = 16 if (random.uniform(0,1) < pool_odds[16][20]) else 20\n",
    "    pD[l][7] = 5 if (random.uniform(0,1) < pool_odds[5][20]) else 20\n",
    "    pD[l][8] = 4 if (random.uniform(0,1) < pool_odds[4][16]) else 16\n",
    "    pD[l][9] = 5 if (random.uniform(0,1) < pool_odds[5][9]) else 9\n",
    "    unique_el, counts_el = np.unique(pD[l][:],return_counts=True)\n",
    "    pool_standings[l][3] = dict(zip(unique_el,counts_el))"
   ]
  },
  {
   "cell_type": "code",
   "execution_count": 51,
   "metadata": {},
   "outputs": [
    {
     "data": {
      "text/plain": [
       "[{1: 4, 8: 3, 12: 1, 13: 1, 17: 1},\n",
       " {2: 1, 7: 2, 11: 4, 14: 3},\n",
       " {1: 4, 8: 1, 12: 3, 17: 2},\n",
       " {4: 3, 5: 4, 9: 2, 16: 1}]"
      ]
     },
     "execution_count": 51,
     "metadata": {},
     "output_type": "execute_result"
    }
   ],
   "source": [
    "pool_standings[0]"
   ]
  },
  {
   "cell_type": "code",
   "execution_count": 56,
   "metadata": {},
   "outputs": [
    {
     "data": {
      "text/html": [
       "<div>\n",
       "<style scoped>\n",
       "    .dataframe tbody tr th:only-of-type {\n",
       "        vertical-align: middle;\n",
       "    }\n",
       "\n",
       "    .dataframe tbody tr th {\n",
       "        vertical-align: top;\n",
       "    }\n",
       "\n",
       "    .dataframe thead th {\n",
       "        text-align: right;\n",
       "    }\n",
       "</style>\n",
       "<table border=\"1\" class=\"dataframe\">\n",
       "  <thead>\n",
       "    <tr style=\"text-align: right;\">\n",
       "      <th></th>\n",
       "      <th>0</th>\n",
       "      <th>1</th>\n",
       "      <th>2</th>\n",
       "      <th>3</th>\n",
       "    </tr>\n",
       "  </thead>\n",
       "  <tbody>\n",
       "    <tr>\n",
       "      <th>0</th>\n",
       "      <td>{1: 4, 8: 3, 12: 1, 13: 1, 17: 1}</td>\n",
       "      <td>{2: 1, 7: 2, 11: 4, 14: 3}</td>\n",
       "      <td>{1: 4, 8: 1, 12: 3, 17: 2}</td>\n",
       "      <td>{4: 3, 5: 4, 9: 2, 16: 1}</td>\n",
       "    </tr>\n",
       "    <tr>\n",
       "      <th>1</th>\n",
       "      <td>{1: 2, 8: 3, 13: 3, 17: 2}</td>\n",
       "      <td>{2: 4, 7: 2, 11: 3, 14: 1}</td>\n",
       "      <td>{1: 3, 8: 2, 12: 3, 13: 1, 17: 1}</td>\n",
       "      <td>{4: 3, 5: 4, 9: 2, 16: 1}</td>\n",
       "    </tr>\n",
       "    <tr>\n",
       "      <th>2</th>\n",
       "      <td>{1: 2, 8: 4, 13: 3, 17: 1}</td>\n",
       "      <td>{2: 4, 7: 1, 11: 3, 14: 2}</td>\n",
       "      <td>{1: 2, 8: 2, 12: 3, 13: 1, 17: 2}</td>\n",
       "      <td>{4: 2, 5: 4, 9: 2, 16: 1, 20: 1}</td>\n",
       "    </tr>\n",
       "    <tr>\n",
       "      <th>3</th>\n",
       "      <td>{1: 4, 8: 3, 12: 1, 13: 2}</td>\n",
       "      <td>{2: 2, 7: 1, 11: 4, 14: 3}</td>\n",
       "      <td>{1: 3, 8: 3, 12: 1, 17: 3}</td>\n",
       "      <td>{4: 2, 5: 3, 9: 3, 16: 2}</td>\n",
       "    </tr>\n",
       "    <tr>\n",
       "      <th>4</th>\n",
       "      <td>{1: 3, 8: 2, 12: 2, 13: 2, 17: 1}</td>\n",
       "      <td>{2: 4, 7: 2, 11: 3, 14: 1}</td>\n",
       "      <td>{1: 4, 8: 2, 12: 1, 13: 1, 17: 2}</td>\n",
       "      <td>{4: 4, 5: 2, 9: 2, 16: 2}</td>\n",
       "    </tr>\n",
       "  </tbody>\n",
       "</table>\n",
       "</div>"
      ],
      "text/plain": [
       "                                   0                           1  \\\n",
       "0  {1: 4, 8: 3, 12: 1, 13: 1, 17: 1}  {2: 1, 7: 2, 11: 4, 14: 3}   \n",
       "1         {1: 2, 8: 3, 13: 3, 17: 2}  {2: 4, 7: 2, 11: 3, 14: 1}   \n",
       "2         {1: 2, 8: 4, 13: 3, 17: 1}  {2: 4, 7: 1, 11: 3, 14: 2}   \n",
       "3         {1: 4, 8: 3, 12: 1, 13: 2}  {2: 2, 7: 1, 11: 4, 14: 3}   \n",
       "4  {1: 3, 8: 2, 12: 2, 13: 2, 17: 1}  {2: 4, 7: 2, 11: 3, 14: 1}   \n",
       "\n",
       "                                   2                                 3  \n",
       "0         {1: 4, 8: 1, 12: 3, 17: 2}         {4: 3, 5: 4, 9: 2, 16: 1}  \n",
       "1  {1: 3, 8: 2, 12: 3, 13: 1, 17: 1}         {4: 3, 5: 4, 9: 2, 16: 1}  \n",
       "2  {1: 2, 8: 2, 12: 3, 13: 1, 17: 2}  {4: 2, 5: 4, 9: 2, 16: 1, 20: 1}  \n",
       "3         {1: 3, 8: 3, 12: 1, 17: 3}         {4: 2, 5: 3, 9: 3, 16: 2}  \n",
       "4  {1: 4, 8: 2, 12: 1, 13: 1, 17: 2}         {4: 4, 5: 2, 9: 2, 16: 2}  "
      ]
     },
     "execution_count": 56,
     "metadata": {},
     "output_type": "execute_result"
    }
   ],
   "source": [
    "standings = pd.DataFrame(pool_standings[:])\n",
    "standings.head()"
   ]
  },
  {
   "cell_type": "code",
   "execution_count": 54,
   "metadata": {},
   "outputs": [
    {
     "data": {
      "text/plain": [
       "{4: 3, 5: 4, 9: 2, 16: 1}"
      ]
     },
     "execution_count": 54,
     "metadata": {},
     "output_type": "execute_result"
    }
   ],
   "source": [
    "unique_el, counts_el = np.unique(pD[0][:],return_counts=True)\n",
    "dict(zip(unique_el,counts_el))"
   ]
  },
  {
   "cell_type": "code",
   "execution_count": 35,
   "metadata": {},
   "outputs": [
    {
     "data": {
      "text/plain": [
       "<matplotlib.axes._subplots.AxesSubplot at 0xbaf345a6d8>"
      ]
     },
     "execution_count": 35,
     "metadata": {},
     "output_type": "execute_result"
    },
    {
     "data": {
      "image/png": "[encoded data removed]",
      "text/plain": [
       "<Figure size 432x288 with 1 Axes>"
      ]
     },
     "metadata": {},
     "output_type": "display_data"
    }
   ],
   "source": [
    "poolA.plot.hist(grid=True)"
   ]
  },
  {
   "cell_type": "code",
   "execution_count": 36,
   "metadata": {},
   "outputs": [
    {
     "data": {
      "text/plain": [
       "10000"
      ]
     },
     "execution_count": 36,
     "metadata": {},
     "output_type": "execute_result"
    }
   ],
   "source": [
    "poolA[0].count()"
   ]
  },
  {
   "cell_type": "markdown",
   "metadata": {},
   "source": [
    "Here's the probabilities for bracket play "
   ]
  },
  {
   "cell_type": "code",
   "execution_count": 6,
   "metadata": {
    "scrolled": true
   },
   "outputs": [
    {
     "data": {
      "text/plain": [
       "home_seed  away_seed\n",
       "1          2            0.000000\n",
       "           4            0.500000\n",
       "           6            0.166667\n",
       "           7            0.000000\n",
       "           9            0.000000\n",
       "2          1            0.000000\n",
       "           10           0.000000\n",
       "           15           0.166667\n",
       "3          2            0.000000\n",
       "           4            0.000000\n",
       "           7            0.166667\n",
       "           11           0.000000\n",
       "           14           0.333333\n",
       "4          3            0.000000\n",
       "           11           0.166667\n",
       "           17           0.166667\n",
       "5          2            0.166667\n",
       "           3            0.166667\n",
       "           4            0.000000\n",
       "           6            0.166667\n",
       "           8            0.166667\n",
       "           12           0.333333\n",
       "6          1            0.000000\n",
       "           2            0.166667\n",
       "           4            0.166667\n",
       "           5            0.166667\n",
       "           7            0.166667\n",
       "           9            0.166667\n",
       "           11           0.166667\n",
       "           14           0.000000\n",
       "                          ...   \n",
       "9          17           0.500000\n",
       "10         1            0.000000\n",
       "           4            0.000000\n",
       "           7            0.333333\n",
       "           8            0.166667\n",
       "           9            0.000000\n",
       "           14           0.000000\n",
       "11         1            0.000000\n",
       "           6            0.000000\n",
       "           10           0.000000\n",
       "           15           0.166667\n",
       "12         6            0.000000\n",
       "           20           0.333333\n",
       "13         16           0.166667\n",
       "           20           0.333333\n",
       "14         4            0.000000\n",
       "           19           0.166667\n",
       "15         3            0.000000\n",
       "           6            0.166667\n",
       "           7            0.166667\n",
       "           13           0.166667\n",
       "           18           0.000000\n",
       "16         12           0.000000\n",
       "           13           0.166667\n",
       "           17           0.166667\n",
       "18         10           0.166667\n",
       "           19           0.166667\n",
       "19         7            0.166667\n",
       "           14           0.000000\n",
       "20         12           0.166667\n",
       "Name: sum, Length: 67, dtype: float64"
      ]
     },
     "execution_count": 6,
     "metadata": {},
     "output_type": "execute_result"
    }
   ],
   "source": [
    "brak = df[df['type']=='bracket']\n",
    "brak_info = brak[['home_seed','away_seed','pnt_diff','home_W']].groupby(['home_seed','away_seed']).agg(['sum'])\n",
    "years = brak['event'].nunique()\n",
    "brak_info['home_W']['sum']/years"
   ]
  },
  {
   "cell_type": "markdown",
   "metadata": {},
   "source": [
    "From these seeding matchup probabilities for pool play, we can calculate further interesting likelihoods"
   ]
  },
  {
   "cell_type": "code",
   "execution_count": null,
   "metadata": {},
   "outputs": [],
   "source": []
  }
 ],
 "metadata": {
  "kernelspec": {
   "display_name": "Python 3",
   "language": "python",
   "name": "python3"
  },
  "language_info": {
   "codemirror_mode": {
    "name": "ipython",
    "version": 3
   },
   "file_extension": ".py",
   "mimetype": "text/x-python",
   "name": "python",
   "nbconvert_exporter": "python",
   "pygments_lexer": "ipython3",
   "version": "3.6.5"
  }
 },
 "nbformat": 4,
 "nbformat_minor": 2
}
