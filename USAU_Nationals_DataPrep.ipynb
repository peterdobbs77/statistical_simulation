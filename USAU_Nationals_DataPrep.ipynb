{
 "cells": [
  {
   "cell_type": "markdown",
   "metadata": {},
   "source": [
    "# USAU College Nationals Data Prep"
   ]
  },
  {
   "cell_type": "code",
   "execution_count": 1,
   "metadata": {},
   "outputs": [],
   "source": [
    "import os\n",
    "import requests\n",
    "import pandas as pd\n",
    "from bs4 import BeautifulSoup as bs\n",
    "import matplotlib.pyplot as plt"
   ]
  },
  {
   "cell_type": "code",
   "execution_count": 15,
   "metadata": {
    "scrolled": false
   },
   "outputs": [
    {
     "data": {
      "text/html": [
       "<div>\n",
       "<style scoped>\n",
       "    .dataframe tbody tr th:only-of-type {\n",
       "        vertical-align: middle;\n",
       "    }\n",
       "\n",
       "    .dataframe tbody tr th {\n",
       "        vertical-align: top;\n",
       "    }\n",
       "\n",
       "    .dataframe thead th {\n",
       "        text-align: right;\n",
       "    }\n",
       "</style>\n",
       "<table border=\"1\" class=\"dataframe\">\n",
       "  <thead>\n",
       "    <tr style=\"text-align: right;\">\n",
       "      <th></th>\n",
       "      <th>event</th>\n",
       "      <th>type</th>\n",
       "      <th>home_team</th>\n",
       "      <th>away_team</th>\n",
       "      <th>home_score</th>\n",
       "      <th>away_score</th>\n",
       "      <th>home_seed</th>\n",
       "      <th>away_seed</th>\n",
       "      <th>pnt_diff</th>\n",
       "      <th>home_W</th>\n",
       "    </tr>\n",
       "  </thead>\n",
       "  <tbody>\n",
       "    <tr>\n",
       "      <th>0</th>\n",
       "      <td>USA-Ultimate-D-I-College-Championships/schedul...</td>\n",
       "      <td>pool</td>\n",
       "      <td>Colorado (1)</td>\n",
       "      <td>Harvard (8)</td>\n",
       "      <td>15</td>\n",
       "      <td>11</td>\n",
       "      <td>1</td>\n",
       "      <td>8</td>\n",
       "      <td>4</td>\n",
       "      <td>True</td>\n",
       "    </tr>\n",
       "    <tr>\n",
       "      <th>1</th>\n",
       "      <td>USA-Ultimate-D-I-College-Championships/schedul...</td>\n",
       "      <td>pool</td>\n",
       "      <td>Wisconsin (12)</td>\n",
       "      <td>California-San Diego (13)</td>\n",
       "      <td>15</td>\n",
       "      <td>7</td>\n",
       "      <td>12</td>\n",
       "      <td>13</td>\n",
       "      <td>8</td>\n",
       "      <td>True</td>\n",
       "    </tr>\n",
       "    <tr>\n",
       "      <th>2</th>\n",
       "      <td>USA-Ultimate-D-I-College-Championships/schedul...</td>\n",
       "      <td>pool</td>\n",
       "      <td>Harvard (8)</td>\n",
       "      <td>California-San Diego (13)</td>\n",
       "      <td>15</td>\n",
       "      <td>14</td>\n",
       "      <td>8</td>\n",
       "      <td>13</td>\n",
       "      <td>1</td>\n",
       "      <td>True</td>\n",
       "    </tr>\n",
       "    <tr>\n",
       "      <th>3</th>\n",
       "      <td>USA-Ultimate-D-I-College-Championships/schedul...</td>\n",
       "      <td>pool</td>\n",
       "      <td>Wisconsin (12)</td>\n",
       "      <td>Eastern Michigan (17)</td>\n",
       "      <td>15</td>\n",
       "      <td>11</td>\n",
       "      <td>12</td>\n",
       "      <td>17</td>\n",
       "      <td>4</td>\n",
       "      <td>True</td>\n",
       "    </tr>\n",
       "    <tr>\n",
       "      <th>4</th>\n",
       "      <td>USA-Ultimate-D-I-College-Championships/schedul...</td>\n",
       "      <td>pool</td>\n",
       "      <td>Colorado (1)</td>\n",
       "      <td>Eastern Michigan (17)</td>\n",
       "      <td>15</td>\n",
       "      <td>9</td>\n",
       "      <td>1</td>\n",
       "      <td>17</td>\n",
       "      <td>6</td>\n",
       "      <td>True</td>\n",
       "    </tr>\n",
       "  </tbody>\n",
       "</table>\n",
       "</div>"
      ],
      "text/plain": [
       "                                               event  type       home_team  \\\n",
       "0  USA-Ultimate-D-I-College-Championships/schedul...  pool    Colorado (1)   \n",
       "1  USA-Ultimate-D-I-College-Championships/schedul...  pool  Wisconsin (12)   \n",
       "2  USA-Ultimate-D-I-College-Championships/schedul...  pool     Harvard (8)   \n",
       "3  USA-Ultimate-D-I-College-Championships/schedul...  pool  Wisconsin (12)   \n",
       "4  USA-Ultimate-D-I-College-Championships/schedul...  pool    Colorado (1)   \n",
       "\n",
       "                   away_team  home_score  away_score  home_seed  away_seed  \\\n",
       "0                Harvard (8)          15          11          1          8   \n",
       "1  California-San Diego (13)          15           7         12         13   \n",
       "2  California-San Diego (13)          15          14          8         13   \n",
       "3      Eastern Michigan (17)          15          11         12         17   \n",
       "4      Eastern Michigan (17)          15           9          1         17   \n",
       "\n",
       "   pnt_diff  home_W  \n",
       "0         4    True  \n",
       "1         8    True  \n",
       "2         1    True  \n",
       "3         4    True  \n",
       "4         6    True  "
      ]
     },
     "execution_count": 15,
     "metadata": {},
     "output_type": "execute_result"
    }
   ],
   "source": [
    "df = pd.read_csv('./data/ultimate/CollegeSeries/open_nationals_allgames.csv')\n",
    "df['pnt_diff'] = df['home_score'] - df['away_score']\n",
    "df['home_W'] = df['home_score'] > df['away_score']\n",
    "df.head()"
   ]
  },
  {
   "cell_type": "markdown",
   "metadata": {},
   "source": [
    "Here's the probabilities for pool play"
   ]
  },
  {
   "cell_type": "code",
   "execution_count": 19,
   "metadata": {},
   "outputs": [
    {
     "data": {
      "text/plain": [
       "home_seed  away_seed\n",
       "1          8            0.833333\n",
       "           12           1.000000\n",
       "           13           0.666667\n",
       "           17           1.000000\n",
       "2          7            0.833333\n",
       "           11           0.500000\n",
       "           14           0.833333\n",
       "           18           1.000000\n",
       "3          6            0.666667\n",
       "           10           0.666667\n",
       "           15           0.666667\n",
       "           19           0.666667\n",
       "4          5            0.500000\n",
       "           9            0.833333\n",
       "           16           0.500000\n",
       "           20           1.000000\n",
       "5          9            0.500000\n",
       "           16           0.666667\n",
       "           20           1.000000\n",
       "6          10           0.666667\n",
       "           15           1.000000\n",
       "           19           1.000000\n",
       "7          11           0.166667\n",
       "           14           0.666667\n",
       "           18           1.000000\n",
       "8          12           0.833333\n",
       "           13           0.666667\n",
       "           17           0.833333\n",
       "9          16           0.833333\n",
       "           20           1.000000\n",
       "10         15           0.500000\n",
       "           19           0.833333\n",
       "11         14           1.000000\n",
       "           18           0.833333\n",
       "12         13           0.666667\n",
       "           17           0.666667\n",
       "13         17           0.500000\n",
       "14         18           0.833333\n",
       "15         19           0.666667\n",
       "16         20           0.833333\n",
       "Name: sum, dtype: float64"
      ]
     },
     "execution_count": 19,
     "metadata": {},
     "output_type": "execute_result"
    }
   ],
   "source": [
    "pool = df[df['type']=='pool']\n",
    "pool_info = pool[['home_seed','away_seed','pnt_diff','home_W']].groupby(['home_seed','away_seed']).agg(['sum'])\n",
    "years = pool['event'].nunique()\n",
    "pool_info['home_W']['sum']/years"
   ]
  },
  {
   "cell_type": "markdown",
   "metadata": {},
   "source": [
    "Here's the probabilities for bracket play "
   ]
  },
  {
   "cell_type": "code",
   "execution_count": 18,
   "metadata": {
    "scrolled": true
   },
   "outputs": [
    {
     "data": {
      "text/plain": [
       "home_seed  away_seed\n",
       "1          2            0.000000\n",
       "           4            0.500000\n",
       "           6            0.166667\n",
       "           7            0.000000\n",
       "           9            0.000000\n",
       "2          1            0.000000\n",
       "           10           0.000000\n",
       "           15           0.166667\n",
       "3          2            0.000000\n",
       "           4            0.000000\n",
       "           7            0.166667\n",
       "           11           0.000000\n",
       "           14           0.333333\n",
       "4          3            0.000000\n",
       "           11           0.166667\n",
       "           17           0.166667\n",
       "5          2            0.166667\n",
       "           3            0.166667\n",
       "           4            0.000000\n",
       "           6            0.166667\n",
       "           8            0.166667\n",
       "           12           0.333333\n",
       "6          1            0.000000\n",
       "           2            0.166667\n",
       "           4            0.166667\n",
       "           5            0.166667\n",
       "           7            0.166667\n",
       "           9            0.166667\n",
       "           11           0.166667\n",
       "           14           0.000000\n",
       "                          ...   \n",
       "9          17           0.500000\n",
       "10         1            0.000000\n",
       "           4            0.000000\n",
       "           7            0.333333\n",
       "           8            0.166667\n",
       "           9            0.000000\n",
       "           14           0.000000\n",
       "11         1            0.000000\n",
       "           6            0.000000\n",
       "           10           0.000000\n",
       "           15           0.166667\n",
       "12         6            0.000000\n",
       "           20           0.333333\n",
       "13         16           0.166667\n",
       "           20           0.333333\n",
       "14         4            0.000000\n",
       "           19           0.166667\n",
       "15         3            0.000000\n",
       "           6            0.166667\n",
       "           7            0.166667\n",
       "           13           0.166667\n",
       "           18           0.000000\n",
       "16         12           0.000000\n",
       "           13           0.166667\n",
       "           17           0.166667\n",
       "18         10           0.166667\n",
       "           19           0.166667\n",
       "19         7            0.166667\n",
       "           14           0.000000\n",
       "20         12           0.166667\n",
       "Name: sum, Length: 67, dtype: float64"
      ]
     },
     "execution_count": 18,
     "metadata": {},
     "output_type": "execute_result"
    }
   ],
   "source": [
    "brak = df[df['type']=='bracket']\n",
    "brak_info = brak[['home_seed','away_seed','pnt_diff','home_W']].groupby(['home_seed','away_seed']).agg(['sum'])\n",
    "years = brak['event'].nunique()\n",
    "brak_info['home_W']['sum']/years\n"
   ]
  },
  {
   "cell_type": "markdown",
   "metadata": {},
   "source": [
    "From these seeding matchup probabilities for pool play, we can calculate further interesting likelihoods"
   ]
  },
  {
   "cell_type": "code",
   "execution_count": null,
   "metadata": {},
   "outputs": [],
   "source": []
  }
 ],
 "metadata": {
  "kernelspec": {
   "display_name": "Python 3",
   "language": "python",
   "name": "python3"
  },
  "language_info": {
   "codemirror_mode": {
    "name": "ipython",
    "version": 3
   },
   "file_extension": ".py",
   "mimetype": "text/x-python",
   "name": "python",
   "nbconvert_exporter": "python",
   "pygments_lexer": "ipython3",
   "version": "3.6.5"
  }
 },
 "nbformat": 4,
 "nbformat_minor": 2
}
