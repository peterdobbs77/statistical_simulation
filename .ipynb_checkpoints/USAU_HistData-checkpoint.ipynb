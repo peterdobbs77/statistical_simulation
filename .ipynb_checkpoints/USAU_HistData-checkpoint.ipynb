{
 "cells": [
  {
   "cell_type": "markdown",
   "metadata": {},
   "source": [
    "Working on converting scores on USAU tournament websites into a data table for analysis with pandas. Based on playing over 3 years of organized Ultimate Frisbee and inspecting the USAU website's score tables, I have a rough idea of what I'm looking for. The USAU tournament info is split into  slides/tabs for the pools and brackets. \n",
    "\n",
    "The pool play is under the section with `id=\"poolSlide\"`. Then, the pools are organized under sections of `data-type=\"pool\"` and organized into tables of `class=\"scores_table\"`. Each game is under its own table row with a `data-game` identifier.\n",
    "\n",
    "Bracket play is under the section with `id=\"bracketSlide\"` and set up in a rather unique way because they try to make it look like the bracket."
   ]
  },
  {
   "cell_type": "code",
   "execution_count": 61,
   "metadata": {},
   "outputs": [],
   "source": [
    "import os\n",
    "import requests\n",
    "import pandas as pd\n",
    "from bs4 import BeautifulSoup as bs"
   ]
  },
  {
   "cell_type": "code",
   "execution_count": 73,
   "metadata": {},
   "outputs": [],
   "source": [
    "USER_AGENT = \"Mozilla/5.0 (X11; Linux x86_64) AppleWebKit/537.36 (KHTML, like Gecko) Chrome/44.0.2403.157 Safari/537.36\"\n",
    "# US english\n",
    "LANGUAGE = \"en-US,en;q=0.5\"\n",
    "\n",
    "def get_soup(url):\n",
    "    \"\"\"Constructs and returns a soup using the HTML content of `url` passed\"\"\"\n",
    "    # initialize a session\n",
    "    session = requests.Session()\n",
    "    # set the User-Agent as a regular browser\n",
    "    session.headers['User-Agent'] = USER_AGENT\n",
    "    # request for english content (optional)\n",
    "    session.headers['Accept-Language'] = LANGUAGE\n",
    "    session.headers['Content-Language'] = LANGUAGE\n",
    "    # make the request\n",
    "    html = session.get(url)\n",
    "    # return the soup\n",
    "    return bs(html.content, \"html.parser\")"
   ]
  },
  {
   "cell_type": "markdown",
   "metadata": {},
   "source": [
    "Get pool play -- or consolation pool -- data"
   ]
  },
  {
   "cell_type": "code",
   "execution_count": 102,
   "metadata": {},
   "outputs": [],
   "source": [
    "def get_all_scoretables(soup):\n",
    "    \"\"\"Extracts and returns all tables in a soup object\"\"\"\n",
    "    return soup.find_all(\"table\",class_=\"scores_table\")\n",
    "\n",
    "def get_scoretable_name(table):\n",
    "    \"\"\"Given a table soup, returns the table's name\"\"\"\n",
    "    return table.find(\"thead\").find(\"tr\").find(\"th\").text.strip()\n",
    "\n",
    "def get_table_headers(table):\n",
    "    \"\"\"Given a table soup, returns all the headers\"\"\"\n",
    "    headers = []\n",
    "    for th in table.find(\"tbody\").find(\"tr\").find_all(\"th\"):\n",
    "        headers.append(th.text.strip())\n",
    "    return headers\n",
    "\n",
    "def get_table_rows(table):\n",
    "    \"\"\"Given a table, returns all its rows\"\"\"\n",
    "    rows = []\n",
    "    for tr in table.find(\"tbody\").find_all(\"tr\")[1:]:\n",
    "        cells = []\n",
    "        # grab all td tags in this table row\n",
    "        tds = tr.find_all(\"td\")\n",
    "        if len(tds) == 0:\n",
    "            # if no td tags, search for th tags\n",
    "            # can be found especially in wikipedia tables below the table\n",
    "            ths = tr.find_all(\"th\")\n",
    "            for th in ths:\n",
    "                cells.append(th.text.strip())\n",
    "        else:\n",
    "            # use regular td tags\n",
    "            for td in tds:\n",
    "                cells.append(td.text.strip())\n",
    "        rows.append(cells)\n",
    "    return rows\n",
    "#Shout out to https://www.thepythoncode.com/article/convert-html-tables-into-csv-files-in-python.\n",
    "\n",
    "def scrape_and_clean_scoretables(base_url,event):\n",
    "    #scrape\n",
    "    soup = get_soup(base_url+event)\n",
    "    tables = get_all_scoretables(soup)\n",
    "    T = len(tables)\n",
    "    print(f\"Found {T} score tables\")\n",
    "    filepath = f\"./data/ultimate/{event}\"\n",
    "    if not os.path.exists(filepath):\n",
    "        os.makedirs(filepath)\n",
    "    print(f\"Data files stored under {filepath}\")\n",
    "    #clean\n",
    "    frames = []\n",
    "    for i, table in enumerate(tables, start=1):\n",
    "        headers = get_table_headers(table)\n",
    "        rows = get_table_rows(table)\n",
    "        df = pd.DataFrame(rows, columns=headers)\n",
    "        df['table'] = get_scoretable_name(table)\n",
    "        df['event'] = event\n",
    "        df['home_score'] = df['Score'].str.extract(r'(^\\d+)').astype(int)\n",
    "        df['away_score'] = df['Score'].str.extract(r'(\\d+$)').astype(int)\n",
    "        df = df[['event','table','Date','Time','Team 1','Team 2','home_score','away_score']]\n",
    "        frames.append(df)\n",
    "    result = pd.concat(frames)\n",
    "    result.to_csv(f\"{filepath}poolplay.csv\")"
   ]
  },
  {
   "cell_type": "code",
   "execution_count": 103,
   "metadata": {
    "scrolled": true
   },
   "outputs": [
    {
     "name": "stdout",
     "output_type": "stream",
     "text": [
      "Found 3 score tables\n",
      "Data files stored under ./data/ultimate/Florida-Warm-Up-2019/schedule/Men/CollegeMen/\n"
     ]
    }
   ],
   "source": [
    "base_url = \"https://play.usaultimate.org/events/\"\n",
    "event = \"Florida-Warm-Up-2019/schedule/Men/CollegeMen/\"\n",
    "scrape_and_clean_scoretables(base_url,event)"
   ]
  },
  {
   "cell_type": "markdown",
   "metadata": {},
   "source": [
    "Now let's look at bracket play"
   ]
  },
  {
   "cell_type": "code",
   "execution_count": 92,
   "metadata": {
    "scrolled": true
   },
   "outputs": [
    {
     "name": "stdout",
     "output_type": "stream",
     "text": [
      "<div class=\"bracket_game top_game has_next\" data-index=\"1\" data-relation=\"game206414\" id=\"game206410\">\n",
      "<div class=\"gameID_area\">\n",
      "<div class=\"gameID\">\n",
      "<span></span>\n",
      "<p><a href=\"/teams/events/match_report/?EventGameId=LdWSB6S8U%2b%2f91bI5xSTaZ31Uo6xT0qOoZ3sOW2gYyMw%3d\">G1</a></p>\n",
      "</div>\n",
      "</div>\n",
      "<div class=\"top_area winner\">\n",
      "<span class=\"isScore\">\n",
      "<span class=\"score adjust-data\" data-type=\"game-score-home\">15</span>\n",
      "</span>\n",
      "<span class=\"isName\">\n",
      "<span class=\"team adjust-data\" data-type=\"game-team-home\"><a href=\"/events/teams/?EventTeamId=qO2i5gaszd2WIAT%2fYAFGl4cSLWjNsJocDhD7EiOQr2Y%3d\">Brown (2)</a></span>\n",
      "</span>\n",
      "</div>\n",
      "<div class=\"btm_area loser\">\n",
      "<span class=\"isScore\">\n",
      "<span class=\"score adjust-data\" data-type=\"game-score-away\">9</span>\n",
      "</span>\n",
      "<span class=\"isName\">\n",
      "<span class=\"team adjust-data\" data-type=\"game-team-away\"><a href=\"/events/teams/?EventTeamId=SprphcbM2y94gjgBw4oqefwY0Bf7qDLuEC7TTMxrp2o%3d\">Texas A&amp;M; (25)</a></span>\n",
      "</span>\n",
      "</div>\n",
      "<p class=\"location\">Field 1 </p>\n",
      "<span class=\"game-status\">Final</span>\n",
      "<span class=\"date\">2/9/2019 6:30 PM</span>\n",
      "</div>\n"
     ]
    }
   ],
   "source": [
    "base_url = \"https://play.usaultimate.org/events/\"\n",
    "event = \"Florida-Warm-Up-2019/schedule/Men/CollegeMen/\"\n",
    "soup = get_soup(base_url+event)\n",
    "bracketgames = soup.find_all(\"div\",class_=\"bracket_game\")\n",
    "print(bracketgames[3])"
   ]
  },
  {
   "cell_type": "code",
   "execution_count": 93,
   "metadata": {},
   "outputs": [],
   "source": [
    "games = []\n",
    "for i, game in enumerate(bracketgames):\n",
    "    game_id = game['id']\n",
    "    home_team = game.find(\"span\",{\"class\":\"team\",\"data-type\":\"game-team-home\"}).text\n",
    "    away_team = game.find(\"span\",{\"class\":\"team\",\"data-type\":\"game-team-away\"}).text\n",
    "    home_score = game.find(\"span\",{\"class\":\"score\",\"data-type\":\"game-score-home\"}).text\n",
    "    away_score = game.find(\"span\",{\"class\":\"score\",\"data-type\":\"game-score-away\"}).text\n",
    "    game_time = game.find(\"span\",{\"class\":\"date\"}).text\n",
    "    games.append([event,game_id,game_time,home_team,away_team,home_score,away_score])\n",
    "    \n",
    "headers = ['event','game_id','game_time','home_team','away_team','home_score','away_score']\n",
    "filepath = f\"./data/ultimate/{event}\"\n",
    "if not os.path.exists(filepath):\n",
    "    os.makedirs(filepath)\n",
    "pd.DataFrame(games,columns=headers).to_csv(f\"{filepath}bracketplay.csv\")"
   ]
  },
  {
   "cell_type": "markdown",
   "metadata": {},
   "source": [
    "Now that we have our data in a nice format, we can start doing some analysis...\n",
    "Let's start by looking at a team's goal differential at a tournament"
   ]
  },
  {
   "cell_type": "code",
   "execution_count": 105,
   "metadata": {},
   "outputs": [
    {
     "data": {
      "text/html": [
       "<div>\n",
       "<style scoped>\n",
       "    .dataframe tbody tr th:only-of-type {\n",
       "        vertical-align: middle;\n",
       "    }\n",
       "\n",
       "    .dataframe tbody tr th {\n",
       "        vertical-align: top;\n",
       "    }\n",
       "\n",
       "    .dataframe thead th {\n",
       "        text-align: right;\n",
       "    }\n",
       "</style>\n",
       "<table border=\"1\" class=\"dataframe\">\n",
       "  <thead>\n",
       "    <tr style=\"text-align: right;\">\n",
       "      <th></th>\n",
       "      <th>Unnamed: 0</th>\n",
       "      <th>event</th>\n",
       "      <th>table</th>\n",
       "      <th>Date</th>\n",
       "      <th>Time</th>\n",
       "      <th>Team 1</th>\n",
       "      <th>Team 2</th>\n",
       "      <th>home_score</th>\n",
       "      <th>away_score</th>\n",
       "      <th>home_diff</th>\n",
       "      <th>away_diff</th>\n",
       "    </tr>\n",
       "  </thead>\n",
       "  <tbody>\n",
       "    <tr>\n",
       "      <th>0</th>\n",
       "      <td>0</td>\n",
       "      <td>Florida-Warm-Up-2019/schedule/Men/CollegeMen/</td>\n",
       "      <td>Pool A Schedule &amp; Scores</td>\n",
       "      <td>Fri 2/8</td>\n",
       "      <td>9:00 AM</td>\n",
       "      <td>Harvard (11)</td>\n",
       "      <td>Oklahoma (20)</td>\n",
       "      <td>13</td>\n",
       "      <td>9</td>\n",
       "      <td>4</td>\n",
       "      <td>-4</td>\n",
       "    </tr>\n",
       "    <tr>\n",
       "      <th>1</th>\n",
       "      <td>1</td>\n",
       "      <td>Florida-Warm-Up-2019/schedule/Men/CollegeMen/</td>\n",
       "      <td>Pool A Schedule &amp; Scores</td>\n",
       "      <td>Fri 2/8</td>\n",
       "      <td>9:00 AM</td>\n",
       "      <td>Kansas (13)</td>\n",
       "      <td>Kennesaw State (14)</td>\n",
       "      <td>10</td>\n",
       "      <td>12</td>\n",
       "      <td>-2</td>\n",
       "      <td>2</td>\n",
       "    </tr>\n",
       "    <tr>\n",
       "      <th>2</th>\n",
       "      <td>2</td>\n",
       "      <td>Florida-Warm-Up-2019/schedule/Men/CollegeMen/</td>\n",
       "      <td>Pool A Schedule &amp; Scores</td>\n",
       "      <td>Fri 2/8</td>\n",
       "      <td>9:00 AM</td>\n",
       "      <td>Alabama-Huntsville (30)</td>\n",
       "      <td>Texas-Dallas (28)</td>\n",
       "      <td>7</td>\n",
       "      <td>13</td>\n",
       "      <td>-6</td>\n",
       "      <td>6</td>\n",
       "    </tr>\n",
       "    <tr>\n",
       "      <th>3</th>\n",
       "      <td>3</td>\n",
       "      <td>Florida-Warm-Up-2019/schedule/Men/CollegeMen/</td>\n",
       "      <td>Pool A Schedule &amp; Scores</td>\n",
       "      <td>Fri 2/8</td>\n",
       "      <td>9:00 AM</td>\n",
       "      <td>Texas A&amp;M; (25)</td>\n",
       "      <td>South Carolina (23)</td>\n",
       "      <td>10</td>\n",
       "      <td>12</td>\n",
       "      <td>-2</td>\n",
       "      <td>2</td>\n",
       "    </tr>\n",
       "    <tr>\n",
       "      <th>4</th>\n",
       "      <td>4</td>\n",
       "      <td>Florida-Warm-Up-2019/schedule/Men/CollegeMen/</td>\n",
       "      <td>Pool A Schedule &amp; Scores</td>\n",
       "      <td>Fri 2/8</td>\n",
       "      <td>9:00 AM</td>\n",
       "      <td>Rutgers (22)</td>\n",
       "      <td>Michigan (16)</td>\n",
       "      <td>10</td>\n",
       "      <td>13</td>\n",
       "      <td>-3</td>\n",
       "      <td>3</td>\n",
       "    </tr>\n",
       "  </tbody>\n",
       "</table>\n",
       "</div>"
      ],
      "text/plain": [
       "   Unnamed: 0                                          event  \\\n",
       "0           0  Florida-Warm-Up-2019/schedule/Men/CollegeMen/   \n",
       "1           1  Florida-Warm-Up-2019/schedule/Men/CollegeMen/   \n",
       "2           2  Florida-Warm-Up-2019/schedule/Men/CollegeMen/   \n",
       "3           3  Florida-Warm-Up-2019/schedule/Men/CollegeMen/   \n",
       "4           4  Florida-Warm-Up-2019/schedule/Men/CollegeMen/   \n",
       "\n",
       "                      table     Date     Time                   Team 1  \\\n",
       "0  Pool A Schedule & Scores  Fri 2/8  9:00 AM             Harvard (11)   \n",
       "1  Pool A Schedule & Scores  Fri 2/8  9:00 AM              Kansas (13)   \n",
       "2  Pool A Schedule & Scores  Fri 2/8  9:00 AM  Alabama-Huntsville (30)   \n",
       "3  Pool A Schedule & Scores  Fri 2/8  9:00 AM          Texas A&M; (25)   \n",
       "4  Pool A Schedule & Scores  Fri 2/8  9:00 AM             Rutgers (22)   \n",
       "\n",
       "                Team 2  home_score  away_score  home_diff  away_diff  \n",
       "0        Oklahoma (20)          13           9          4         -4  \n",
       "1  Kennesaw State (14)          10          12         -2          2  \n",
       "2    Texas-Dallas (28)           7          13         -6          6  \n",
       "3  South Carolina (23)          10          12         -2          2  \n",
       "4        Michigan (16)          10          13         -3          3  "
      ]
     },
     "execution_count": 105,
     "metadata": {},
     "output_type": "execute_result"
    }
   ],
   "source": [
    "event = \"Florida-Warm-Up-2019/schedule/Men/CollegeMen/\"\n",
    "pool = pd.read_csv(f\"./data/ultimate/{event}poolplay.csv\")\n",
    "pool['home_diff'] = pool['home_score'] - pool['away_score']\n",
    "pool['away_diff'] = pool['away_score'] - pool['home_score']\n",
    "pool.head()"
   ]
  },
  {
   "cell_type": "code",
   "execution_count": null,
   "metadata": {},
   "outputs": [],
   "source": []
  },
  {
   "cell_type": "code",
   "execution_count": null,
   "metadata": {},
   "outputs": [],
   "source": []
  }
 ],
 "metadata": {
  "kernelspec": {
   "display_name": "Python 3",
   "language": "python",
   "name": "python3"
  },
  "language_info": {
   "codemirror_mode": {
    "name": "ipython",
    "version": 3
   },
   "file_extension": ".py",
   "mimetype": "text/x-python",
   "name": "python",
   "nbconvert_exporter": "python",
   "pygments_lexer": "ipython3",
   "version": "3.6.5"
  }
 },
 "nbformat": 4,
 "nbformat_minor": 2
}
