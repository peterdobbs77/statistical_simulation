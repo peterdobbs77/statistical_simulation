{
 "cells": [
  {
   "cell_type": "markdown",
   "metadata": {},
   "source": [
    "## Collecting Data\n",
    "Working on converting scores on USAU tournament websites into a data table for analysis with pandas. Based on playing over 3 years of organized Ultimate Frisbee and inspecting the USAU website's score tables, I have a rough idea of what I'm looking for. The USAU tournament info is split into  slides/tabs for the pools and brackets. \n",
    "\n",
    "The pool play is under the section with `id=\"poolSlide\"`. Then, the pools are organized under sections of `data-type=\"pool\"` and organized into tables of `class=\"scores_table\"`. Each game is under its own table row with a `data-game` identifier.\n",
    "\n",
    "Bracket play is under the section with `id=\"bracketSlide\"` and set up in a rather unique way because they try to make it look like the bracket."
   ]
  },
  {
   "cell_type": "code",
   "execution_count": 1,
   "metadata": {},
   "outputs": [],
   "source": [
    "import os\n",
    "import requests\n",
    "import pandas as pd\n",
    "from bs4 import BeautifulSoup as bs\n",
    "import matplotlib.pyplot as plt"
   ]
  },
  {
   "cell_type": "code",
   "execution_count": 2,
   "metadata": {},
   "outputs": [],
   "source": [
    "USER_AGENT = \"Mozilla/5.0 (X11; Linux x86_64) AppleWebKit/537.36 (KHTML, like Gecko) Chrome/44.0.2403.157 Safari/537.36\"\n",
    "# US english\n",
    "LANGUAGE = \"en-US,en;q=0.5\"\n",
    "\n",
    "def get_soup(url):\n",
    "    \"\"\"Constructs and returns a soup using the HTML content of `url` passed\"\"\"\n",
    "    # initialize a session\n",
    "    session = requests.Session()\n",
    "    # set the User-Agent as a regular browser\n",
    "    session.headers['User-Agent'] = USER_AGENT\n",
    "    # request for english content (optional)\n",
    "    session.headers['Accept-Language'] = LANGUAGE\n",
    "    session.headers['Content-Language'] = LANGUAGE\n",
    "    # make the request\n",
    "    html = session.get(url)\n",
    "    # return the soup\n",
    "    return bs(html.content, \"html.parser\")"
   ]
  },
  {
   "cell_type": "code",
   "execution_count": 31,
   "metadata": {},
   "outputs": [],
   "source": [
    "def get_all_scoretables(soup):\n",
    "    \"\"\"Extracts and returns all tables in a soup object\"\"\"\n",
    "    return soup.find_all(\"table\",class_=\"scores_table\")\n",
    "\n",
    "def get_scoretable_name(table):\n",
    "    \"\"\"Given a table soup, returns the table's name\"\"\"\n",
    "    return table.find(\"thead\").find(\"tr\").find(\"th\").text.strip()\n",
    "\n",
    "def get_table_headers(table):\n",
    "    \"\"\"Given a table soup, returns all the headers\"\"\"\n",
    "    headers = []\n",
    "    for th in table.find(\"tbody\").find(\"tr\").find_all(\"th\"):\n",
    "        headers.append(th.text.strip())\n",
    "    return headers\n",
    "\n",
    "def get_table_rows(table):\n",
    "    \"\"\"Given a table, returns all its rows\"\"\"\n",
    "    rows = []\n",
    "    for tr in table.find(\"tbody\").find_all(\"tr\")[1:]:\n",
    "        cells = []\n",
    "        # grab all td tags in this table row\n",
    "        tds = tr.find_all(\"td\")\n",
    "        if len(tds) == 0:\n",
    "            # if no td tags, search for th tags\n",
    "            # can be found especially in wikipedia tables below the table\n",
    "            ths = tr.find_all(\"th\")\n",
    "            for th in ths:\n",
    "                cells.append(th.text.strip())\n",
    "        else:\n",
    "            # use regular td tags\n",
    "            for td in tds:\n",
    "                cells.append(td.text.strip())\n",
    "        rows.append(cells)\n",
    "    return rows\n",
    "#Shout out to https://www.thepythoncode.com/article/convert-html-tables-into-csv-files-in-python.\n",
    "\n",
    "def scrape_and_clean_scoretables(base_url, event):\n",
    "    #scrape\n",
    "    soup = get_soup(base_url+event)\n",
    "    tables = get_all_scoretables(soup)\n",
    "    T = len(tables)\n",
    "    print(f\"Found {T} score tables\")\n",
    "    #clean\n",
    "    frames = []\n",
    "    for i, table in enumerate(tables, start=1):\n",
    "        headers = get_table_headers(table)\n",
    "        rows = get_table_rows(table)\n",
    "        df = pd.DataFrame(rows, columns=headers)\n",
    "        df['table'] = get_scoretable_name(table)\n",
    "        df['event'] = event\n",
    "        df['home_score'] = df['Score'].str.extract(r'(^\\d+)').astype(int)\n",
    "        df['away_score'] = df['Score'].str.extract(r'(\\d+$)').astype(int)\n",
    "        df = df[['event','table','Date','Time','Team 1','Team 2','home_score','away_score']]\n",
    "        frames.append(df)\n",
    "    result = pd.concat(frames)\n",
    "    headers = ['event','table','Date','Time','home_team','away_team','home_score','away_score']\n",
    "    result.columns = headers\n",
    "    return result\n",
    "\n",
    "def scrape_and_clean_brackets(base_url, event):\n",
    "    #scrape\n",
    "    soup = get_soup(base_url+event)\n",
    "    bracketgames = soup.find_all(\"div\",{\"class\":\"bracket_game\"})\n",
    "    print(f\"Found {len(bracketgames)} bracket games\")\n",
    "    #clean\n",
    "    games = []\n",
    "    for i, game in enumerate(bracketgames):\n",
    "        game_id = game['id']\n",
    "        home_team = game.find(\"span\",{\"class\":\"team\",\"data-type\":\"game-team-home\"}).text\n",
    "        away_team = game.find(\"span\",{\"class\":\"team\",\"data-type\":\"game-team-away\"}).text\n",
    "        home_score = int(game.find(\"span\",{\"class\":\"score\",\"data-type\":\"game-score-home\"}).text)\n",
    "        away_score = int(game.find(\"span\",{\"class\":\"score\",\"data-type\":\"game-score-away\"}).text)\n",
    "        game_time = game.find(\"span\",{\"class\":\"date\"}).text\n",
    "        games.append([event,game_id,game_time,home_team,away_team,home_score,away_score])\n",
    "    headers = ['event','game_id','game_time','home_team','away_team','home_score','away_score']\n",
    "    result = pd.DataFrame(games,columns=headers)\n",
    "    return result"
   ]
  },
  {
   "cell_type": "markdown",
   "metadata": {},
   "source": [
    "**Let's get our data!**"
   ]
  },
  {
   "cell_type": "code",
   "execution_count": 54,
   "metadata": {
    "scrolled": false
   },
   "outputs": [
    {
     "name": "stdout",
     "output_type": "stream",
     "text": [
      "Data files will be stored under ./data/ultimate/2017-USA-Ultimate-College-Championships/schedule/Men/CollegeMen/\n"
     ]
    }
   ],
   "source": [
    "BASE_URL = \"https://play.usaultimate.org/events/\"\n",
    "EVENT = \"2017-USA-Ultimate-College-Championships/schedule/Men/CollegeMen/\"\n",
    "FILE_PATH = f\"./data/ultimate/{EVENT}\"\n",
    "if not os.path.exists(FILE_PATH):\n",
    "    os.makedirs(FILE_PATH)\n",
    "print(f\"Data files will be stored under {FILE_PATH}\")"
   ]
  },
  {
   "cell_type": "code",
   "execution_count": 55,
   "metadata": {
    "scrolled": true
   },
   "outputs": [
    {
     "name": "stdout",
     "output_type": "stream",
     "text": [
      "Found 4 score tables\n",
      "Found 15 bracket games\n"
     ]
    }
   ],
   "source": [
    "poolplay = scrape_and_clean_scoretables(BASE_URL,EVENT)\n",
    "poolplay.to_csv(f\"{FILE_PATH}poolplay.csv\")\n",
    "bracketplay = scrape_and_clean_brackets(BASE_URL, EVENT)\n",
    "bracketplay.to_csv(f\"{FILE_PATH}bracketplay.csv\")"
   ]
  },
  {
   "cell_type": "markdown",
   "metadata": {},
   "source": [
    "## Simple Analysis"
   ]
  },
  {
   "cell_type": "markdown",
   "metadata": {},
   "source": [
    "Now that we have our data in a nice format, we can start doing some analysis...\n",
    "Let's start by looking at a team's goal differential at a tournament"
   ]
  },
  {
   "cell_type": "code",
   "execution_count": 56,
   "metadata": {},
   "outputs": [],
   "source": [
    "all_games = poolplay[['home_team','away_team','home_score','away_score']].append(bracketplay[['home_team','away_team','home_score','away_score']],ignore_index=True)\n",
    "all_games['home_diff'] = all_games['home_score'] - all_games['away_score']\n",
    "all_games['away_diff'] = all_games['away_score'] - all_games['home_score']"
   ]
  },
  {
   "cell_type": "code",
   "execution_count": 57,
   "metadata": {
    "scrolled": true
   },
   "outputs": [
    {
     "data": {
      "text/plain": [
       "<matplotlib.axes._subplots.AxesSubplot at 0xd7d98f4a8>"
      ]
     },
     "execution_count": 57,
     "metadata": {},
     "output_type": "execute_result"
    },
    {
     "data": {
      "image/png": "[encoded data removed]",
      "text/plain": [
       "<Figure size 432x288 with 1 Axes>"
      ]
     },
     "metadata": {},
     "output_type": "display_data"
    }
   ],
   "source": [
    "home = all_games[['home_team','home_diff']]\n",
    "home.columns = ['team','diff']\n",
    "away = all_games[['away_team','away_diff']]\n",
    "away.columns = ['team','diff']\n",
    "merged = home.append(away,ignore_index=True)\n",
    "pnt_diff = merged.groupby('team').sum().sort_values(by='diff')\n",
    "pnt_diff.plot(kind='bar')"
   ]
  },
  {
   "cell_type": "markdown",
   "metadata": {},
   "source": [
    "## Scoring Distributions"
   ]
  },
  {
   "cell_type": "markdown",
   "metadata": {},
   "source": [
    "First, let's look at all the scores"
   ]
  },
  {
   "cell_type": "code",
   "execution_count": 65,
   "metadata": {
    "scrolled": true
   },
   "outputs": [
    {
     "name": "stdout",
     "output_type": "stream",
     "text": [
      "Minimum Score: 5\n"
     ]
    },
    {
     "data": {
      "text/plain": [
       "<matplotlib.axes._subplots.AxesSubplot at 0xd012a0860>"
      ]
     },
     "execution_count": 65,
     "metadata": {},
     "output_type": "execute_result"
    },
    {
     "data": {
      "image/png": "[encoded data removed]",
      "text/plain": [
       "<Figure size 432x288 with 1 Axes>"
      ]
     },
     "metadata": {},
     "output_type": "display_data"
    }
   ],
   "source": [
    "home = all_games[['home_team','home_score']]\n",
    "home.columns = ['team','score']\n",
    "away = all_games[['away_team','away_score']]\n",
    "away.columns = ['team','score']\n",
    "pivot = home.append(away,ignore_index=True)\n",
    "print(f\"Minimum Score: {pivot['score'].min()}\")\n",
    "pivot['score'].plot.hist(grid=True, bins=16)"
   ]
  },
  {
   "cell_type": "markdown",
   "metadata": {},
   "source": [
    "Now let's look at winners and loser as separate distributions"
   ]
  },
  {
   "cell_type": "code",
   "execution_count": 71,
   "metadata": {
    "scrolled": true
   },
   "outputs": [
    {
     "data": {
      "text/plain": [
       "<matplotlib.axes._subplots.AxesSubplot at 0xd0135c400>"
      ]
     },
     "execution_count": 71,
     "metadata": {},
     "output_type": "execute_result"
    },
    {
     "data": {
      "image/png": "[encoded data removed]",
      "text/plain": [
       "<Figure size 432x288 with 1 Axes>"
      ]
     },
     "metadata": {},
     "output_type": "display_data"
    }
   ],
   "source": [
    "home = all_games[all_games['home_score']>all_games['away_score']][['home_team','home_score','away_team','away_score']]\n",
    "home.columns = ['winner_team','winner_score','loser_team','loser_score']\n",
    "away = all_games[all_games['home_score']<all_games['away_score']][['home_team','home_score','away_team','away_score']]\n",
    "away.columns = ['loser_team','loser_score','winner_team','winner_score']\n",
    "reorganized = home.append(away,ignore_index=True,sort=False)\n",
    "reorganized['winner_score','loser_score'].plot.hist(grid=True)"
   ]
  },
  {
   "cell_type": "code",
   "execution_count": 72,
   "metadata": {},
   "outputs": [
    {
     "data": {
      "text/plain": [
       "<matplotlib.axes._subplots.AxesSubplot at 0xd014b57f0>"
      ]
     },
     "execution_count": 72,
     "metadata": {},
     "output_type": "execute_result"
    },
    {
     "data": {
      "image/png": "[encoded data removed]",
      "text/plain": [
       "<Figure size 432x288 with 1 Axes>"
      ]
     },
     "metadata": {},
     "output_type": "display_data"
    }
   ],
   "source": [
    "home = all_games[all_games['home_score']<all_games['away_score']][['home_team','home_score']]\n",
    "home.columns = ['team','score']\n",
    "away = all_games[all_games['home_score']>all_games['away_score']][['away_team','away_score']]\n",
    "away.columns = ['team','score']\n",
    "losers = home.append(away,ignore_index=True)\n",
    "losers.plot.hist(grid=True)"
   ]
  },
  {
   "cell_type": "code",
   "execution_count": null,
   "metadata": {},
   "outputs": [],
   "source": [
    "plt.hist(winners)"
   ]
  },
  {
   "cell_type": "markdown",
   "metadata": {},
   "source": [
    "## Ranking Teams\n",
    "(see [this link](https://play.usaultimate.org/teams/events/rankings/) for full, official details)\n",
    "\n",
    "Let's take a look at the USAU ranking system. At its simplest level, each game outcome results in a rating for each playing team. Then, those ratings are averaged over all games played by each team.\n",
    "\n",
    "This raises two questions:\n",
    "* how do you compute rating points for individual games?\n",
    "* how do you average the ratings?\n",
    "\n"
   ]
  },
  {
   "cell_type": "markdown",
   "metadata": {},
   "source": [
    "The general formula for computing an individual games' rating points is:\n",
    "$$\\text{Rating Differential: } d=125+475\\frac{\\sin(\\min(1,\\frac{1-r}{0.5})\\cdot 0.4\\pi)}{\\sin(0.4\\pi)},$$\n",
    "$$\\text{where: } r= \\frac{\\text{losing score}}{\\text{winning score}-1}.$$"
   ]
  },
  {
   "cell_type": "markdown",
   "metadata": {},
   "source": [
    "So let's take a look at how that works. Start by constructing a matrix of the possibilities of `r` values"
   ]
  },
  {
   "cell_type": "code",
   "execution_count": 66,
   "metadata": {},
   "outputs": [
    {
     "ename": "ZeroDivisionError",
     "evalue": "division by zero",
     "output_type": "error",
     "traceback": [
      "\u001b[1;31m---------------------------------------------------------------------------\u001b[0m",
      "\u001b[1;31mZeroDivisionError\u001b[0m                         Traceback (most recent call last)",
      "\u001b[1;32m<ipython-input-66-f8f36d6f0e42>\u001b[0m in \u001b[0;36m<module>\u001b[1;34m()\u001b[0m\n\u001b[1;32m----> 1\u001b[1;33m \u001b[0mr\u001b[0m \u001b[1;33m=\u001b[0m \u001b[1;33m[\u001b[0m\u001b[1;33m[\u001b[0m\u001b[0ml\u001b[0m\u001b[1;33m/\u001b[0m\u001b[1;33m(\u001b[0m\u001b[0mw\u001b[0m\u001b[1;33m-\u001b[0m\u001b[1;36m1\u001b[0m\u001b[1;33m)\u001b[0m \u001b[1;32mfor\u001b[0m \u001b[0mw\u001b[0m \u001b[1;32min\u001b[0m \u001b[0mrange\u001b[0m\u001b[1;33m(\u001b[0m\u001b[0ml\u001b[0m\u001b[1;33m+\u001b[0m\u001b[1;36m1\u001b[0m\u001b[1;33m,\u001b[0m\u001b[1;36m16\u001b[0m\u001b[1;33m)\u001b[0m\u001b[1;33m]\u001b[0m \u001b[1;32mfor\u001b[0m \u001b[0ml\u001b[0m \u001b[1;32min\u001b[0m \u001b[0mrange\u001b[0m\u001b[1;33m(\u001b[0m\u001b[1;36m15\u001b[0m\u001b[1;33m)\u001b[0m\u001b[1;33m]\u001b[0m\u001b[1;33m\u001b[0m\u001b[0m\n\u001b[0m",
      "\u001b[1;32m<ipython-input-66-f8f36d6f0e42>\u001b[0m in \u001b[0;36m<listcomp>\u001b[1;34m(.0)\u001b[0m\n\u001b[1;32m----> 1\u001b[1;33m \u001b[0mr\u001b[0m \u001b[1;33m=\u001b[0m \u001b[1;33m[\u001b[0m\u001b[1;33m[\u001b[0m\u001b[0ml\u001b[0m\u001b[1;33m/\u001b[0m\u001b[1;33m(\u001b[0m\u001b[0mw\u001b[0m\u001b[1;33m-\u001b[0m\u001b[1;36m1\u001b[0m\u001b[1;33m)\u001b[0m \u001b[1;32mfor\u001b[0m \u001b[0mw\u001b[0m \u001b[1;32min\u001b[0m \u001b[0mrange\u001b[0m\u001b[1;33m(\u001b[0m\u001b[0ml\u001b[0m\u001b[1;33m+\u001b[0m\u001b[1;36m1\u001b[0m\u001b[1;33m,\u001b[0m\u001b[1;36m16\u001b[0m\u001b[1;33m)\u001b[0m\u001b[1;33m]\u001b[0m \u001b[1;32mfor\u001b[0m \u001b[0ml\u001b[0m \u001b[1;32min\u001b[0m \u001b[0mrange\u001b[0m\u001b[1;33m(\u001b[0m\u001b[1;36m15\u001b[0m\u001b[1;33m)\u001b[0m\u001b[1;33m]\u001b[0m\u001b[1;33m\u001b[0m\u001b[0m\n\u001b[0m",
      "\u001b[1;32m<ipython-input-66-f8f36d6f0e42>\u001b[0m in \u001b[0;36m<listcomp>\u001b[1;34m(.0)\u001b[0m\n\u001b[1;32m----> 1\u001b[1;33m \u001b[0mr\u001b[0m \u001b[1;33m=\u001b[0m \u001b[1;33m[\u001b[0m\u001b[1;33m[\u001b[0m\u001b[0ml\u001b[0m\u001b[1;33m/\u001b[0m\u001b[1;33m(\u001b[0m\u001b[0mw\u001b[0m\u001b[1;33m-\u001b[0m\u001b[1;36m1\u001b[0m\u001b[1;33m)\u001b[0m \u001b[1;32mfor\u001b[0m \u001b[0mw\u001b[0m \u001b[1;32min\u001b[0m \u001b[0mrange\u001b[0m\u001b[1;33m(\u001b[0m\u001b[0ml\u001b[0m\u001b[1;33m+\u001b[0m\u001b[1;36m1\u001b[0m\u001b[1;33m,\u001b[0m\u001b[1;36m16\u001b[0m\u001b[1;33m)\u001b[0m\u001b[1;33m]\u001b[0m \u001b[1;32mfor\u001b[0m \u001b[0ml\u001b[0m \u001b[1;32min\u001b[0m \u001b[0mrange\u001b[0m\u001b[1;33m(\u001b[0m\u001b[1;36m15\u001b[0m\u001b[1;33m)\u001b[0m\u001b[1;33m]\u001b[0m\u001b[1;33m\u001b[0m\u001b[0m\n\u001b[0m",
      "\u001b[1;31mZeroDivisionError\u001b[0m: division by zero"
     ]
    }
   ],
   "source": [
    "r = [[l/(w-1) for w in range(l+1,16)] for l in range(15)]"
   ]
  },
  {
   "cell_type": "markdown",
   "metadata": {},
   "source": [
    "That inability to divide by zero shows a complication for when the winning score is 1. Since that doesn't really happen in practice (unless it is a late tournament game that doesn't really matter), I think we can live with leaving out that possibility."
   ]
  },
  {
   "cell_type": "code",
   "execution_count": 70,
   "metadata": {},
   "outputs": [],
   "source": [
    "r = [[l/(w-1) for w in range(l+1,16)] for l in range(1,15)]\n"
   ]
  },
  {
   "cell_type": "markdown",
   "metadata": {},
   "source": [
    "In practice, this looks like..."
   ]
  },
  {
   "cell_type": "code",
   "execution_count": 44,
   "metadata": {},
   "outputs": [],
   "source": [
    "import math\n",
    "\n",
    "def calculate_ratings(df):\n",
    "    home_rate_diff = []\n",
    "    away_rate_diff = []\n",
    "    for index, game in df.iterrows():\n",
    "        winning_score = max(game['home_score'],game['away_score'])\n",
    "        losing_score = min(game['home_score'],game['away_score'])\n",
    "        r = losing_score/(winning_score-1)\n",
    "        d = 125 + 475*(math.sin(min(1,(1-r)/0.5)*.4*math.pi)/math.sin(.4*math.pi))\n",
    "        if game['home_score'] > game['away_score']:\n",
    "            home_rate_diff.append(d)\n",
    "            away_rate_diff.append(-d)\n",
    "        else:\n",
    "            home_rate_diff.append(-d)\n",
    "            away_rate_diff.append(d)\n",
    "    df['home_rate_diff'] = home_rate_diff\n",
    "    df['away_rate_diff'] = away_rate_diff"
   ]
  },
  {
   "cell_type": "code",
   "execution_count": 45,
   "metadata": {},
   "outputs": [
    {
     "data": {
      "text/html": [
       "<div>\n",
       "<style scoped>\n",
       "    .dataframe tbody tr th:only-of-type {\n",
       "        vertical-align: middle;\n",
       "    }\n",
       "\n",
       "    .dataframe tbody tr th {\n",
       "        vertical-align: top;\n",
       "    }\n",
       "\n",
       "    .dataframe thead th {\n",
       "        text-align: right;\n",
       "    }\n",
       "</style>\n",
       "<table border=\"1\" class=\"dataframe\">\n",
       "  <thead>\n",
       "    <tr style=\"text-align: right;\">\n",
       "      <th></th>\n",
       "      <th>home_team</th>\n",
       "      <th>away_team</th>\n",
       "      <th>home_score</th>\n",
       "      <th>away_score</th>\n",
       "      <th>home_diff</th>\n",
       "      <th>away_diff</th>\n",
       "      <th>home_rate_diff</th>\n",
       "      <th>away_rate_diff</th>\n",
       "    </tr>\n",
       "  </thead>\n",
       "  <tbody>\n",
       "    <tr>\n",
       "      <th>0</th>\n",
       "      <td>Harvard (11)</td>\n",
       "      <td>Oklahoma (20)</td>\n",
       "      <td>13</td>\n",
       "      <td>9</td>\n",
       "      <td>4</td>\n",
       "      <td>-4</td>\n",
       "      <td>418.566145</td>\n",
       "      <td>-418.566145</td>\n",
       "    </tr>\n",
       "    <tr>\n",
       "      <th>1</th>\n",
       "      <td>Kansas (13)</td>\n",
       "      <td>Kennesaw State (14)</td>\n",
       "      <td>10</td>\n",
       "      <td>12</td>\n",
       "      <td>-2</td>\n",
       "      <td>2</td>\n",
       "      <td>-238.122578</td>\n",
       "      <td>238.122578</td>\n",
       "    </tr>\n",
       "    <tr>\n",
       "      <th>2</th>\n",
       "      <td>Alabama-Huntsville (30)</td>\n",
       "      <td>Texas-Dallas (28)</td>\n",
       "      <td>7</td>\n",
       "      <td>13</td>\n",
       "      <td>-6</td>\n",
       "      <td>6</td>\n",
       "      <td>-557.531674</td>\n",
       "      <td>557.531674</td>\n",
       "    </tr>\n",
       "    <tr>\n",
       "      <th>3</th>\n",
       "      <td>Texas A&amp;M; (25)</td>\n",
       "      <td>South Carolina (23)</td>\n",
       "      <td>10</td>\n",
       "      <td>12</td>\n",
       "      <td>-2</td>\n",
       "      <td>2</td>\n",
       "      <td>-238.122578</td>\n",
       "      <td>238.122578</td>\n",
       "    </tr>\n",
       "    <tr>\n",
       "      <th>4</th>\n",
       "      <td>Rutgers (22)</td>\n",
       "      <td>Michigan (16)</td>\n",
       "      <td>10</td>\n",
       "      <td>13</td>\n",
       "      <td>-3</td>\n",
       "      <td>3</td>\n",
       "      <td>-328.142402</td>\n",
       "      <td>328.142402</td>\n",
       "    </tr>\n",
       "  </tbody>\n",
       "</table>\n",
       "</div>"
      ],
      "text/plain": [
       "                 home_team            away_team  home_score  away_score  \\\n",
       "0             Harvard (11)        Oklahoma (20)          13           9   \n",
       "1              Kansas (13)  Kennesaw State (14)          10          12   \n",
       "2  Alabama-Huntsville (30)    Texas-Dallas (28)           7          13   \n",
       "3          Texas A&M; (25)  South Carolina (23)          10          12   \n",
       "4             Rutgers (22)        Michigan (16)          10          13   \n",
       "\n",
       "   home_diff  away_diff  home_rate_diff  away_rate_diff  \n",
       "0          4         -4      418.566145     -418.566145  \n",
       "1         -2          2     -238.122578      238.122578  \n",
       "2         -6          6     -557.531674      557.531674  \n",
       "3         -2          2     -238.122578      238.122578  \n",
       "4         -3          3     -328.142402      328.142402  "
      ]
     },
     "execution_count": 45,
     "metadata": {},
     "output_type": "execute_result"
    }
   ],
   "source": [
    "calculate_ratings(all_games)\n",
    "all_games.head()"
   ]
  },
  {
   "cell_type": "code",
   "execution_count": 48,
   "metadata": {},
   "outputs": [
    {
     "data": {
      "text/plain": [
       "<matplotlib.axes._subplots.AxesSubplot at 0xd7f75dcc0>"
      ]
     },
     "execution_count": 48,
     "metadata": {},
     "output_type": "execute_result"
    },
    {
     "data": {
      "image/png": "[encoded data removed]",
      "text/plain": [
       "<Figure size 432x288 with 1 Axes>"
      ]
     },
     "metadata": {},
     "output_type": "display_data"
    }
   ],
   "source": [
    "home = all_games[['home_team','home_rate_diff']]\n",
    "home.columns = ['team','rate_diff']\n",
    "away = all_games[['away_team','away_rate_diff']]\n",
    "away.columns = ['team','rate_diff']\n",
    "merged = home.append(away,ignore_index=True)\n",
    "rate_diff = merged.groupby('team').sum().sort_values(by='rate_diff')\n",
    "rate_diff.plot(kind='bar')"
   ]
  },
  {
   "cell_type": "code",
   "execution_count": null,
   "metadata": {},
   "outputs": [],
   "source": [
    "# compare point diff and rating diff\n"
   ]
  },
  {
   "cell_type": "markdown",
   "metadata": {},
   "source": [
    "Some future research questions:\n",
    "* what is the lowest/highest score differential for a tournament winner/loser?\n",
    "* familiarity score to predict outcome of rematches... what happens in rematches: does the initial winner usually win? Is there a chance for an upset, perhaps due to familiarity? Can that be quantified? (perhaps we can look at the UNC vs UNCW matchup from 2017) "
   ]
  },
  {
   "cell_type": "code",
   "execution_count": null,
   "metadata": {},
   "outputs": [],
   "source": []
  }
 ],
 "metadata": {
  "kernelspec": {
   "display_name": "Python 3",
   "language": "python",
   "name": "python3"
  },
  "language_info": {
   "codemirror_mode": {
    "name": "ipython",
    "version": 3
   },
   "file_extension": ".py",
   "mimetype": "text/x-python",
   "name": "python",
   "nbconvert_exporter": "python",
   "pygments_lexer": "ipython3",
   "version": "3.6.5"
  }
 },
 "nbformat": 4,
 "nbformat_minor": 2
}
