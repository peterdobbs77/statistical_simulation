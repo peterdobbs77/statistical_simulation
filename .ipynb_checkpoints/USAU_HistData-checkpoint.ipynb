{
 "cells": [
  {
   "cell_type": "markdown",
   "metadata": {},
   "source": [
    "Working on converting scores on USAU tournament websites into a data table for analysis with pandas. Based on playing over 3 years of organized Ultimate Frisbee and inspecting the USAU website's score tables, I have a rough idea of what I'm looking for. The USAU tournament info is split into  slides/tabs for the pools and brackets. \n",
    "\n",
    "The pool play is under the section with `id=\"poolSlide\"`. Then, the pools are organized under sections of `data-type=\"pool\"` and organized into tables of `class=\"scores_table\"`. Each game is under its own table row with a `data-game` identifier.\n",
    "\n",
    "Bracket play is under the section with `id=\"bracketSlide\"` and set up in a rather unique way because they try to make it look like the bracket."
   ]
  },
  {
   "cell_type": "code",
   "execution_count": 61,
   "metadata": {},
   "outputs": [],
   "source": [
    "import os\n",
    "import requests\n",
    "import pandas as pd\n",
    "from bs4 import BeautifulSoup as bs"
   ]
  },
  {
   "cell_type": "code",
   "execution_count": 73,
   "metadata": {},
   "outputs": [],
   "source": [
    "USER_AGENT = \"Mozilla/5.0 (X11; Linux x86_64) AppleWebKit/537.36 (KHTML, like Gecko) Chrome/44.0.2403.157 Safari/537.36\"\n",
    "# US english\n",
    "LANGUAGE = \"en-US,en;q=0.5\"\n",
    "\n",
    "def get_soup(url):\n",
    "    \"\"\"Constructs and returns a soup using the HTML content of `url` passed\"\"\"\n",
    "    # initialize a session\n",
    "    session = requests.Session()\n",
    "    # set the User-Agent as a regular browser\n",
    "    session.headers['User-Agent'] = USER_AGENT\n",
    "    # request for english content (optional)\n",
    "    session.headers['Accept-Language'] = LANGUAGE\n",
    "    session.headers['Content-Language'] = LANGUAGE\n",
    "    # make the request\n",
    "    html = session.get(url)\n",
    "    # return the soup\n",
    "    return bs(html.content, \"html.parser\")"
   ]
  },
  {
   "cell_type": "markdown",
   "metadata": {},
   "source": [
    "Get pool play -- or consolation pool -- data"
   ]
  },
  {
   "cell_type": "code",
   "execution_count": 85,
   "metadata": {},
   "outputs": [],
   "source": [
    "def get_all_scoretables(soup):\n",
    "    \"\"\"Extracts and returns all tables in a soup object\"\"\"\n",
    "    return soup.find_all(\"table\",class_=\"scores_table\")\n",
    "\n",
    "def get_scoretable_name(table):\n",
    "    \"\"\"Given a table soup, returns the table's name\"\"\"\n",
    "    return table.find(\"thead\").find(\"tr\").find(\"th\").text.strip()\n",
    "\n",
    "def get_table_headers(table):\n",
    "    \"\"\"Given a table soup, returns all the headers\"\"\"\n",
    "    headers = []\n",
    "    for th in table.find(\"tbody\").find(\"tr\").find_all(\"th\"):\n",
    "        headers.append(th.text.strip())\n",
    "    return headers\n",
    "\n",
    "def get_table_rows(table):\n",
    "    \"\"\"Given a table, returns all its rows\"\"\"\n",
    "    rows = []\n",
    "    for tr in table.find(\"tbody\").find_all(\"tr\")[1:]:\n",
    "        cells = []\n",
    "        # grab all td tags in this table row\n",
    "        tds = tr.find_all(\"td\")\n",
    "        if len(tds) == 0:\n",
    "            # if no td tags, search for th tags\n",
    "            # can be found especially in wikipedia tables below the table\n",
    "            ths = tr.find_all(\"th\")\n",
    "            for th in ths:\n",
    "                cells.append(th.text.strip())\n",
    "        else:\n",
    "            # use regular td tags\n",
    "            for td in tds:\n",
    "                cells.append(td.text.strip())\n",
    "        rows.append(cells)\n",
    "    return rows\n",
    "#Shout out to https://www.thepythoncode.com/article/convert-html-tables-into-csv-files-in-python.\n",
    "\n",
    "def scrape_and_clean_scoretables(base_url,event):\n",
    "    #scrape\n",
    "    soup = get_soup(base_url+event)\n",
    "    tables = get_all_scoretables(soup)\n",
    "    T = len(tables)\n",
    "    print(f\"Found {T} score tables\")\n",
    "    filepath = f\"./data/ultimate/{event}\"\n",
    "    if not os.path.exists(filepath):\n",
    "        os.makedirs(filepath)\n",
    "    print(f\"Data files stored under {filepath}\")\n",
    "    #clean\n",
    "    frames = []    \n",
    "    for i, table in enumerate(tables, start=1):\n",
    "        headers = get_table_headers(table)\n",
    "        rows = get_table_rows(table)\n",
    "        df = pd.DataFrame(rows, columns=headers)\n",
    "        df['Table'] = get_scoretable_name(table)\n",
    "        df['Event'] = event\n",
    "        df['Team 1 Score'] = df['Score'].str.extract(r'(^\\d+)').astype(int)\n",
    "        df['Team 2 Score'] = df['Score'].str.extract(r'(\\d+$)').astype(int)\n",
    "        df = df[['Event','Table','Date','Time','Team 1','Team 2','Team 1 Score','Team 2 Score']]\n",
    "        frames.append(df)\n",
    "    result = pd.concat(frames)\n",
    "    result.to_csv(f\"{filepath}poolplay.csv\")"
   ]
  },
  {
   "cell_type": "code",
   "execution_count": 86,
   "metadata": {
    "scrolled": true
   },
   "outputs": [
    {
     "name": "stdout",
     "output_type": "stream",
     "text": [
      "Found 3 score tables\n",
      "Data files stored under ./data/ultimate/Florida-Warm-Up-2019/schedule/Men/CollegeMen/\n"
     ]
    }
   ],
   "source": [
    "base_url = \"https://play.usaultimate.org/events/\"\n",
    "event = \"Florida-Warm-Up-2019/schedule/Men/CollegeMen/\"\n",
    "scrape_and_clean_scoretables(base_url,event)"
   ]
  },
  {
   "cell_type": "markdown",
   "metadata": {},
   "source": [
    "Now let's look at bracket play"
   ]
  },
  {
   "cell_type": "code",
   "execution_count": 76,
   "metadata": {},
   "outputs": [
    {
     "name": "stdout",
     "output_type": "stream",
     "text": [
      "<div class=\"bracket_game top_game\" data-index=\"1\" data-relation=\"\" id=\"game206416\">\n",
      "<div class=\"gameID_area\">\n",
      "<div class=\"gameID\">\n",
      "<span></span>\n",
      "<p><a href=\"/teams/events/match_report/?EventGameId=xlo48rmrkjLrXsswELflat3wy3sU5%2b0YzNZlu17L5Qo%3d\">G1</a></p>\n",
      "</div>\n",
      "</div>\n",
      "<div class=\"top_area winner\">\n",
      "<span class=\"isScore\">\n",
      "<span class=\"score adjust-data\" data-type=\"game-score-home\">15</span>\n",
      "</span>\n",
      "<span class=\"isName\">\n",
      "<span class=\"team adjust-data\" data-type=\"game-team-home\"><a href=\"/events/teams/?EventTeamId=qO2i5gaszd2WIAT%2fYAFGl4cSLWjNsJocDhD7EiOQr2Y%3d\">Brown (2)</a></span>\n",
      "</span>\n",
      "</div>\n",
      "<div class=\"btm_area loser\">\n",
      "<span class=\"isScore\">\n",
      "<span class=\"score adjust-data\" data-type=\"game-score-away\">9</span>\n",
      "</span>\n",
      "<span class=\"isName\">\n",
      "<span class=\"team adjust-data\" data-type=\"game-team-away\"><a href=\"/events/teams/?EventTeamId=%2f%2f0z18TPo74yY8%2bc2GMmvtvGXkA1uMsdzz8gEdmyglc%3d\">Central Florida (4)</a></span>\n",
      "</span>\n",
      "</div>\n",
      "<p class=\"location\">field 2</p>\n",
      "<span class=\"game-status\">Final</span>\n",
      "<span class=\"date\">2/10/2019 12:30 PM</span>\n",
      "</div>\n"
     ]
    }
   ],
   "source": [
    "base_url = \"https://play.usaultimate.org/events/\"\n",
    "event = \"Florida-Warm-Up-2019/schedule/Men/CollegeMen/\"\n",
    "soup = get_soup(base_url+event)\n",
    "bracketgames = soup.find_all(\"div\",class_=\"bracket_game\")\n",
    "print(bracketgames[0])"
   ]
  },
  {
   "cell_type": "code",
   "execution_count": 80,
   "metadata": {},
   "outputs": [],
   "source": [
    "games = []\n",
    "for i, game in enumerate(bracketgames):\n",
    "    home_team = game.find(\"span\",{\"class\":\"team\",\"data-type\":\"game-team-home\"}).text\n",
    "    away_team = game.find(\"span\",{\"class\":\"team\",\"data-type\":\"game-team-away\"}).text\n",
    "    home_score = game.find(\"span\",{\"class\":\"score\",\"data-type\":\"game-score-home\"}).text\n",
    "    away_score = game.find(\"span\",{\"class\":\"score\",\"data-type\":\"game-score-away\"}).text\n",
    "    game_time = game.find(\"span\",{\"class\":\"date\"}).text\n",
    "    games.append([event,game_time,home_team,away_team,home_score,away_score])\n",
    "    \n",
    "headers = ['event','game_time','home_team','away_team','home_score','away_score']\n",
    "filepath = f\"./data/ultimate/{event}\"\n",
    "if not os.path.exists(filepath):\n",
    "    os.makedirs(filepath)\n",
    "pd.DataFrame(games,columns=headers).to_csv(f\"{filepath}bracketplay.csv\")"
   ]
  },
  {
   "cell_type": "markdown",
   "metadata": {},
   "source": [
    "Need to come up with a good way to assign tournament IDs. I have been using a manual method to do it, but I may want to work on anonymizing the games or some odd data cleaning techniques."
   ]
  },
  {
   "cell_type": "code",
   "execution_count": null,
   "metadata": {},
   "outputs": [],
   "source": []
  }
 ],
 "metadata": {
  "kernelspec": {
   "display_name": "Python 3",
   "language": "python",
   "name": "python3"
  },
  "language_info": {
   "codemirror_mode": {
    "name": "ipython",
    "version": 3
   },
   "file_extension": ".py",
   "mimetype": "text/x-python",
   "name": "python",
   "nbconvert_exporter": "python",
   "pygments_lexer": "ipython3",
   "version": "3.6.5"
  }
 },
 "nbformat": 4,
 "nbformat_minor": 2
}
