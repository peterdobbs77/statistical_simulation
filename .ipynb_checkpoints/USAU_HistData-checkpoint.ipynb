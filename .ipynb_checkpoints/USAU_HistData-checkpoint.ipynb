{
 "cells": [
  {
   "cell_type": "markdown",
   "metadata": {},
   "source": [
    "Working on converting scores on USAU tournament websites into a data table for analysis with pandas. Based on playing over 3 years of organized Ultimate Frisbee and inspecting the USAU website's score tables, I have a rough idea of what I'm looking for. The USAU tournament info is split into  slides/tabs for the pools and brackets. \n",
    "\n",
    "The pool play is under the section with `id=\"poolSlide\"`. Then, the pools are organized under sections of `data-type=\"pool\"` and organized into tables of `class=\"scores_table\"`. Each game is under its own table row with a `data-game` identifier.\n",
    "\n",
    "Bracket play is under the section with `id=\"bracketSlide\"` and set up in a rather unique way because they try to make it look like the bracket."
   ]
  },
  {
   "cell_type": "code",
   "execution_count": 1,
   "metadata": {},
   "outputs": [],
   "source": [
    "import requests\n",
    "import pandas as pd\n",
    "from bs4 import BeautifulSoup as bs"
   ]
  },
  {
   "cell_type": "code",
   "execution_count": 31,
   "metadata": {},
   "outputs": [],
   "source": [
    "USER_AGENT = \"Mozilla/5.0 (X11; Linux x86_64) AppleWebKit/537.36 (KHTML, like Gecko) Chrome/44.0.2403.157 Safari/537.36\"\n",
    "# US english\n",
    "LANGUAGE = \"en-US,en;q=0.5\"\n",
    "\n",
    "def get_soup(url):\n",
    "    \"\"\"Constructs and returns a soup using the HTML content of `url` passed\"\"\"\n",
    "    # initialize a session\n",
    "    session = requests.Session()\n",
    "    # set the User-Agent as a regular browser\n",
    "    session.headers['User-Agent'] = USER_AGENT\n",
    "    # request for english content (optional)\n",
    "    session.headers['Accept-Language'] = LANGUAGE\n",
    "    session.headers['Content-Language'] = LANGUAGE\n",
    "    # make the request\n",
    "    html = session.get(url)\n",
    "    # return the soup\n",
    "    return bs(html.content, \"html.parser\")\n",
    "\n",
    "def get_all_scoretables(soup):\n",
    "    \"\"\"Extracts and returns all tables in a soup object\"\"\"\n",
    "    return soup.find_all(\"table.global_table.scores_table\")\n",
    "\n",
    "def get_table_name(table):\n",
    "    \"\"\"Given a table soup, returns the table's name\"\"\"\n",
    "    return table.find(\"thead\").find(\"tr\").find(\"th\").text.strip()\n",
    "\n",
    "def get_table_headers(table):\n",
    "    \"\"\"Given a table soup, returns all the headers\"\"\"\n",
    "    headers = []\n",
    "    for th in table.find(\"tbody\").find(\"tr\").find_all(\"th\"):\n",
    "        headers.append(th.text.strip())\n",
    "    return headers\n",
    "\n",
    "def get_table_rows(table):\n",
    "    \"\"\"Given a table, returns all its rows\"\"\"\n",
    "    rows = []\n",
    "    for tr in table.find(\"tbody\").find_all(\"tr\")[1:]:\n",
    "        cells = []\n",
    "        # grab all td tags in this table row\n",
    "        tds = tr.find_all(\"td\")\n",
    "        if len(tds) == 0:\n",
    "            # if no td tags, search for th tags\n",
    "            # can be found especially in wikipedia tables below the table\n",
    "            ths = tr.find_all(\"th\")\n",
    "            for th in ths:\n",
    "                cells.append(th.text.strip())\n",
    "        else:\n",
    "            # use regular td tags\n",
    "            for td in tds:\n",
    "                cells.append(td.text.strip())\n",
    "        rows.append(cells)\n",
    "    return rows"
   ]
  },
  {
   "cell_type": "code",
   "execution_count": 34,
   "metadata": {},
   "outputs": [
    {
     "name": "stdout",
     "output_type": "stream",
     "text": [
      "Found a total of 5 tables.\n"
     ]
    }
   ],
   "source": [
    "url = \"https://play.usaultimate.org/events/Florida-Warm-Up-2019/schedule/Men/CollegeMen/\"\n",
    "soup = get_soup(url)\n",
    "tables = get_all_tables(soup)\n",
    "print(f\"Found a total of {len(tables)} tables.\")\n",
    "for i, table in enumerate(tables, start=1):\n",
    "    headers = get_table_headers(table)\n",
    "    rows = get_table_rows(table)\n",
    "    table_name = f\"table{i}\"\n",
    "    pd.DataFrame(rows, columns=headers).to_csv(f\"{table_name}.csv\")"
   ]
  },
  {
   "cell_type": "code",
   "execution_count": 37,
   "metadata": {},
   "outputs": [
    {
     "data": {
      "text/html": [
       "<div>\n",
       "<style scoped>\n",
       "    .dataframe tbody tr th:only-of-type {\n",
       "        vertical-align: middle;\n",
       "    }\n",
       "\n",
       "    .dataframe tbody tr th {\n",
       "        vertical-align: top;\n",
       "    }\n",
       "\n",
       "    .dataframe thead th {\n",
       "        text-align: right;\n",
       "    }\n",
       "</style>\n",
       "<table border=\"1\" class=\"dataframe\">\n",
       "  <thead>\n",
       "    <tr style=\"text-align: right;\">\n",
       "      <th></th>\n",
       "      <th>Date</th>\n",
       "      <th>Time</th>\n",
       "      <th>Team 1</th>\n",
       "      <th>Team 2</th>\n",
       "      <th>Team 1 Score</th>\n",
       "      <th>Team 2 Score</th>\n",
       "    </tr>\n",
       "  </thead>\n",
       "  <tbody>\n",
       "    <tr>\n",
       "      <th>0</th>\n",
       "      <td>Fri 2/8</td>\n",
       "      <td>9:00 AM</td>\n",
       "      <td>Harvard (11)</td>\n",
       "      <td>Oklahoma (20)</td>\n",
       "      <td>13</td>\n",
       "      <td>9</td>\n",
       "    </tr>\n",
       "    <tr>\n",
       "      <th>1</th>\n",
       "      <td>Fri 2/8</td>\n",
       "      <td>9:00 AM</td>\n",
       "      <td>Kansas (13)</td>\n",
       "      <td>Kennesaw State (14)</td>\n",
       "      <td>10</td>\n",
       "      <td>12</td>\n",
       "    </tr>\n",
       "    <tr>\n",
       "      <th>2</th>\n",
       "      <td>Fri 2/8</td>\n",
       "      <td>9:00 AM</td>\n",
       "      <td>Alabama-Huntsville (30)</td>\n",
       "      <td>Texas-Dallas (28)</td>\n",
       "      <td>7</td>\n",
       "      <td>13</td>\n",
       "    </tr>\n",
       "    <tr>\n",
       "      <th>3</th>\n",
       "      <td>Fri 2/8</td>\n",
       "      <td>9:00 AM</td>\n",
       "      <td>Texas A&amp;M; (25)</td>\n",
       "      <td>South Carolina (23)</td>\n",
       "      <td>10</td>\n",
       "      <td>12</td>\n",
       "    </tr>\n",
       "    <tr>\n",
       "      <th>4</th>\n",
       "      <td>Fri 2/8</td>\n",
       "      <td>9:00 AM</td>\n",
       "      <td>Rutgers (22)</td>\n",
       "      <td>Michigan (16)</td>\n",
       "      <td>10</td>\n",
       "      <td>13</td>\n",
       "    </tr>\n",
       "  </tbody>\n",
       "</table>\n",
       "</div>"
      ],
      "text/plain": [
       "      Date     Time                   Team 1               Team 2  \\\n",
       "0  Fri 2/8  9:00 AM             Harvard (11)        Oklahoma (20)   \n",
       "1  Fri 2/8  9:00 AM              Kansas (13)  Kennesaw State (14)   \n",
       "2  Fri 2/8  9:00 AM  Alabama-Huntsville (30)    Texas-Dallas (28)   \n",
       "3  Fri 2/8  9:00 AM          Texas A&M; (25)  South Carolina (23)   \n",
       "4  Fri 2/8  9:00 AM             Rutgers (22)        Michigan (16)   \n",
       "\n",
       "   Team 1 Score  Team 2 Score  \n",
       "0            13             9  \n",
       "1            10            12  \n",
       "2             7            13  \n",
       "3            10            12  \n",
       "4            10            13  "
      ]
     },
     "execution_count": 37,
     "metadata": {},
     "output_type": "execute_result"
    }
   ],
   "source": [
    "df = pd.read_csv('./table2.csv')\n",
    "# fix up the score column\n",
    "df['Team 1 Score'] = df['Score'].str.extract(r'(^\\d+)').astype(int)\n",
    "df['Team 2 Score'] = df['Score'].str.extract(r'(\\d+$)').astype(int)\n",
    "df = df[['Date','Time','Team 1','Team 2','Team 1 Score','Team 2 Score']]\n",
    "df.head()"
   ]
  },
  {
   "cell_type": "markdown",
   "metadata": {},
   "source": [
    "Shout out to https://www.thepythoncode.com/article/convert-html-tables-into-csv-files-in-python."
   ]
  }
 ],
 "metadata": {
  "kernelspec": {
   "display_name": "Python 3",
   "language": "python",
   "name": "python3"
  },
  "language_info": {
   "codemirror_mode": {
    "name": "ipython",
    "version": 3
   },
   "file_extension": ".py",
   "mimetype": "text/x-python",
   "name": "python",
   "nbconvert_exporter": "python",
   "pygments_lexer": "ipython3",
   "version": "3.6.5"
  }
 },
 "nbformat": 4,
 "nbformat_minor": 2
}
